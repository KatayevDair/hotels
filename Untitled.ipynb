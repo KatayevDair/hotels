{
 "cells": [
  {
   "cell_type": "markdown",
   "id": "0a7919bb",
   "metadata": {},
   "source": [
    "# План\n",
    "Нам нужно ознакомиться, проанализировать и предобработать данные. Затем нужно сформулировать и проверить гипотезу и построить модель машинного обучения."
   ]
  },
  {
   "cell_type": "code",
   "execution_count": 224,
   "id": "f400172f",
   "metadata": {},
   "outputs": [
    {
     "name": "stderr",
     "output_type": "stream",
     "text": [
      "[nltk_data] Downloading package stopwords to\n",
      "[nltk_data]     C:\\Users\\DK\\AppData\\Roaming\\nltk_data...\n",
      "[nltk_data]   Package stopwords is already up-to-date!\n"
     ]
    }
   ],
   "source": [
    "import pandas as pd\n",
    "\n",
    "import re\n",
    "\n",
    "import numpy as np\n",
    "\n",
    "import seaborn as sns\n",
    "sns.set_style(\"darkgrid\")\n",
    "\n",
    "from matplotlib import rcParams\n",
    "import matplotlib.pyplot as plt\n",
    "from matplotlib.pyplot import figure\n",
    "\n",
    "import nltk\n",
    "from nltk.stem import WordNetLemmatizer\n",
    "from nltk.corpus import stopwords\n",
    "nltk.download('stopwords')\n",
    "stopwords = set(stopwords.words('english'))\n",
    "\n",
    "from sklearn.feature_extraction.text import TfidfVectorizer\n",
    "from sklearn.model_selection import train_test_split\n",
    "from sklearn.linear_model import LogisticRegression\n",
    "from sklearn.preprocessing import StandardScaler\n",
    "from sklearn.model_selection import cross_val_score\n",
    "from sklearn.tree import DecisionTreeClassifier\n",
    "from sklearn.model_selection import GridSearchCV\n",
    "from sklearn.metrics import confusion_matrix\n",
    "from sklearn.metrics import f1_score\n",
    "\n",
    "from catboost import CatBoostClassifier\n",
    "\n",
    "from statsmodels.stats.weightstats import ztest as ztest"
   ]
  },
  {
   "cell_type": "code",
   "execution_count": 161,
   "id": "8856654e",
   "metadata": {},
   "outputs": [],
   "source": [
    "#часть ниже нужна для визуализации\n",
    "def calculate_tpr_fpr(y_real, y_pred):\n",
    "    cm = confusion_matrix(y_real, y_pred)\n",
    "    TN = cm[0, 0]\n",
    "    FP = cm[0, 1]\n",
    "    FN = cm[1, 0]\n",
    "    TP = cm[1, 1]\n",
    "    tpr =  TP/(TP + FN)\n",
    "    fpr = 1 - TN/(TN+FP)\n",
    "    return tpr, fpr\n",
    "\n",
    "def get_n_roc_coordinates(y_real, y_proba, n = 50):\n",
    "    tpr_list = [0]\n",
    "    fpr_list = [0]\n",
    "    for i in range(n):\n",
    "        threshold = i/n\n",
    "        y_pred = y_proba[:, 1] > threshold\n",
    "        tpr, fpr = calculate_tpr_fpr(y_real, y_pred)\n",
    "        tpr_list.append(tpr)\n",
    "        fpr_list.append(fpr)\n",
    "    return tpr_list, fpr_list\n",
    "\n",
    "def plot_roc_curve(tpr, fpr, scatter = True):\n",
    "    plt.figure(figsize = (16, 9))\n",
    "    if scatter:\n",
    "        sns.scatterplot(x = fpr, y = tpr)\n",
    "    sns.lineplot(x = fpr, y = tpr)\n",
    "    sns.lineplot(x = [0, 1], y = [0, 1], color = 'green')\n",
    "    plt.xlim(-0.05, 1.05)\n",
    "    plt.ylim(-0.05, 1.05)\n",
    "    plt.xlabel(\"False Positive Rate\")\n",
    "    plt.ylabel(\"True Positive Rate\")"
   ]
  },
  {
   "cell_type": "markdown",
   "id": "720eaef7",
   "metadata": {},
   "source": [
    "# Предобработка данных"
   ]
  },
  {
   "cell_type": "code",
   "execution_count": 21,
   "id": "9ab219c9",
   "metadata": {},
   "outputs": [],
   "source": [
    "try:\n",
    "    data = pd.read_csv('hotel_data_part_1.csv')\n",
    "except:\n",
    "    data = pd.read_csv(r'ваш путь') #вствьте ваш путь сюда"
   ]
  },
  {
   "cell_type": "code",
   "execution_count": 22,
   "id": "caf64798",
   "metadata": {},
   "outputs": [
    {
     "data": {
      "text/html": [
       "<div>\n",
       "<style scoped>\n",
       "    .dataframe tbody tr th:only-of-type {\n",
       "        vertical-align: middle;\n",
       "    }\n",
       "\n",
       "    .dataframe tbody tr th {\n",
       "        vertical-align: top;\n",
       "    }\n",
       "\n",
       "    .dataframe thead th {\n",
       "        text-align: right;\n",
       "    }\n",
       "</style>\n",
       "<table border=\"1\" class=\"dataframe\">\n",
       "  <thead>\n",
       "    <tr style=\"text-align: right;\">\n",
       "      <th></th>\n",
       "      <th>Unnamed: 0</th>\n",
       "      <th>address</th>\n",
       "      <th>categories</th>\n",
       "      <th>city</th>\n",
       "      <th>country</th>\n",
       "      <th>latitude</th>\n",
       "      <th>longitude</th>\n",
       "      <th>name</th>\n",
       "      <th>postalCode</th>\n",
       "      <th>province</th>\n",
       "      <th>reviews.date</th>\n",
       "      <th>reviews.dateAdded</th>\n",
       "      <th>reviews.doRecommend</th>\n",
       "      <th>reviews.id</th>\n",
       "      <th>reviews.rating</th>\n",
       "      <th>reviews.text</th>\n",
       "      <th>reviews.title</th>\n",
       "      <th>reviews.userCity</th>\n",
       "      <th>reviews.username</th>\n",
       "      <th>reviews.userProvince</th>\n",
       "    </tr>\n",
       "  </thead>\n",
       "  <tbody>\n",
       "    <tr>\n",
       "      <th>0</th>\n",
       "      <td>0</td>\n",
       "      <td>Riviera San Nicol 11/a</td>\n",
       "      <td>Hotels</td>\n",
       "      <td>Mableton</td>\n",
       "      <td>US</td>\n",
       "      <td>45.421611</td>\n",
       "      <td>12.376187</td>\n",
       "      <td>Hotel Russo Palace</td>\n",
       "      <td>30126</td>\n",
       "      <td>GA</td>\n",
       "      <td>2013-09-22T00:00:00Z</td>\n",
       "      <td>2016-10-24T00:00:25Z</td>\n",
       "      <td>NaN</td>\n",
       "      <td>NaN</td>\n",
       "      <td>4.0</td>\n",
       "      <td>Pleasant 10 min walk along the sea front to th...</td>\n",
       "      <td>Good location away from the crouds</td>\n",
       "      <td>NaN</td>\n",
       "      <td>Russ (kent)</td>\n",
       "      <td>NaN</td>\n",
       "    </tr>\n",
       "    <tr>\n",
       "      <th>1</th>\n",
       "      <td>1</td>\n",
       "      <td>Riviera San Nicol 11/a</td>\n",
       "      <td>Hotels</td>\n",
       "      <td>Mableton</td>\n",
       "      <td>US</td>\n",
       "      <td>45.421611</td>\n",
       "      <td>12.376187</td>\n",
       "      <td>Hotel Russo Palace</td>\n",
       "      <td>30126</td>\n",
       "      <td>GA</td>\n",
       "      <td>2015-04-03T00:00:00Z</td>\n",
       "      <td>2016-10-24T00:00:25Z</td>\n",
       "      <td>NaN</td>\n",
       "      <td>NaN</td>\n",
       "      <td>5.0</td>\n",
       "      <td>Really lovely hotel. Stayed on the very top fl...</td>\n",
       "      <td>Great hotel with Jacuzzi bath!</td>\n",
       "      <td>NaN</td>\n",
       "      <td>A Traveler</td>\n",
       "      <td>NaN</td>\n",
       "    </tr>\n",
       "    <tr>\n",
       "      <th>2</th>\n",
       "      <td>2</td>\n",
       "      <td>Riviera San Nicol 11/a</td>\n",
       "      <td>Hotels</td>\n",
       "      <td>Mableton</td>\n",
       "      <td>US</td>\n",
       "      <td>45.421611</td>\n",
       "      <td>12.376187</td>\n",
       "      <td>Hotel Russo Palace</td>\n",
       "      <td>30126</td>\n",
       "      <td>GA</td>\n",
       "      <td>2014-05-13T00:00:00Z</td>\n",
       "      <td>2016-10-24T00:00:25Z</td>\n",
       "      <td>NaN</td>\n",
       "      <td>NaN</td>\n",
       "      <td>5.0</td>\n",
       "      <td>Ett mycket bra hotell. Det som drog ner betyge...</td>\n",
       "      <td>Lugnt l��ge</td>\n",
       "      <td>NaN</td>\n",
       "      <td>Maud</td>\n",
       "      <td>NaN</td>\n",
       "    </tr>\n",
       "    <tr>\n",
       "      <th>3</th>\n",
       "      <td>3</td>\n",
       "      <td>Riviera San Nicol 11/a</td>\n",
       "      <td>Hotels</td>\n",
       "      <td>Mableton</td>\n",
       "      <td>US</td>\n",
       "      <td>45.421611</td>\n",
       "      <td>12.376187</td>\n",
       "      <td>Hotel Russo Palace</td>\n",
       "      <td>30126</td>\n",
       "      <td>GA</td>\n",
       "      <td>2013-10-27T00:00:00Z</td>\n",
       "      <td>2016-10-24T00:00:25Z</td>\n",
       "      <td>NaN</td>\n",
       "      <td>NaN</td>\n",
       "      <td>5.0</td>\n",
       "      <td>We stayed here for four nights in October. The...</td>\n",
       "      <td>Good location on the Lido.</td>\n",
       "      <td>NaN</td>\n",
       "      <td>Julie</td>\n",
       "      <td>NaN</td>\n",
       "    </tr>\n",
       "    <tr>\n",
       "      <th>4</th>\n",
       "      <td>4</td>\n",
       "      <td>Riviera San Nicol 11/a</td>\n",
       "      <td>Hotels</td>\n",
       "      <td>Mableton</td>\n",
       "      <td>US</td>\n",
       "      <td>45.421611</td>\n",
       "      <td>12.376187</td>\n",
       "      <td>Hotel Russo Palace</td>\n",
       "      <td>30126</td>\n",
       "      <td>GA</td>\n",
       "      <td>2015-03-05T00:00:00Z</td>\n",
       "      <td>2016-10-24T00:00:25Z</td>\n",
       "      <td>NaN</td>\n",
       "      <td>NaN</td>\n",
       "      <td>5.0</td>\n",
       "      <td>We stayed here for four nights in October. The...</td>\n",
       "      <td>������ ���������������</td>\n",
       "      <td>NaN</td>\n",
       "      <td>sungchul</td>\n",
       "      <td>NaN</td>\n",
       "    </tr>\n",
       "  </tbody>\n",
       "</table>\n",
       "</div>"
      ],
      "text/plain": [
       "   Unnamed: 0                 address categories      city country   latitude  \\\n",
       "0           0  Riviera San Nicol 11/a     Hotels  Mableton      US  45.421611   \n",
       "1           1  Riviera San Nicol 11/a     Hotels  Mableton      US  45.421611   \n",
       "2           2  Riviera San Nicol 11/a     Hotels  Mableton      US  45.421611   \n",
       "3           3  Riviera San Nicol 11/a     Hotels  Mableton      US  45.421611   \n",
       "4           4  Riviera San Nicol 11/a     Hotels  Mableton      US  45.421611   \n",
       "\n",
       "   longitude                name  postalCode province          reviews.date  \\\n",
       "0  12.376187  Hotel Russo Palace       30126       GA  2013-09-22T00:00:00Z   \n",
       "1  12.376187  Hotel Russo Palace       30126       GA  2015-04-03T00:00:00Z   \n",
       "2  12.376187  Hotel Russo Palace       30126       GA  2014-05-13T00:00:00Z   \n",
       "3  12.376187  Hotel Russo Palace       30126       GA  2013-10-27T00:00:00Z   \n",
       "4  12.376187  Hotel Russo Palace       30126       GA  2015-03-05T00:00:00Z   \n",
       "\n",
       "      reviews.dateAdded  reviews.doRecommend  reviews.id  reviews.rating  \\\n",
       "0  2016-10-24T00:00:25Z                  NaN         NaN             4.0   \n",
       "1  2016-10-24T00:00:25Z                  NaN         NaN             5.0   \n",
       "2  2016-10-24T00:00:25Z                  NaN         NaN             5.0   \n",
       "3  2016-10-24T00:00:25Z                  NaN         NaN             5.0   \n",
       "4  2016-10-24T00:00:25Z                  NaN         NaN             5.0   \n",
       "\n",
       "                                        reviews.text  \\\n",
       "0  Pleasant 10 min walk along the sea front to th...   \n",
       "1  Really lovely hotel. Stayed on the very top fl...   \n",
       "2  Ett mycket bra hotell. Det som drog ner betyge...   \n",
       "3  We stayed here for four nights in October. The...   \n",
       "4  We stayed here for four nights in October. The...   \n",
       "\n",
       "                        reviews.title reviews.userCity reviews.username  \\\n",
       "0  Good location away from the crouds              NaN      Russ (kent)   \n",
       "1      Great hotel with Jacuzzi bath!              NaN       A Traveler   \n",
       "2                         Lugnt l��ge              NaN             Maud   \n",
       "3          Good location on the Lido.              NaN            Julie   \n",
       "4              ������ ���������������              NaN         sungchul   \n",
       "\n",
       "  reviews.userProvince  \n",
       "0                  NaN  \n",
       "1                  NaN  \n",
       "2                  NaN  \n",
       "3                  NaN  \n",
       "4                  NaN  "
      ]
     },
     "metadata": {},
     "output_type": "display_data"
    },
    {
     "data": {
      "text/plain": [
       "(800, 20)"
      ]
     },
     "execution_count": 22,
     "metadata": {},
     "output_type": "execute_result"
    }
   ],
   "source": [
    "display(data.head())\n",
    "data.shape"
   ]
  },
  {
   "cell_type": "code",
   "execution_count": 9,
   "id": "9f1c26ae",
   "metadata": {},
   "outputs": [
    {
     "name": "stdout",
     "output_type": "stream",
     "text": [
      "<class 'pandas.core.frame.DataFrame'>\n",
      "RangeIndex: 800 entries, 0 to 799\n",
      "Data columns (total 20 columns):\n",
      " #   Column                Non-Null Count  Dtype  \n",
      "---  ------                --------------  -----  \n",
      " 0   Unnamed: 0            800 non-null    int64  \n",
      " 1   address               800 non-null    object \n",
      " 2   categories            800 non-null    object \n",
      " 3   city                  800 non-null    object \n",
      " 4   country               800 non-null    object \n",
      " 5   latitude              800 non-null    float64\n",
      " 6   longitude             800 non-null    float64\n",
      " 7   name                  800 non-null    object \n",
      " 8   postalCode            800 non-null    int64  \n",
      " 9   province              800 non-null    object \n",
      " 10  reviews.date          793 non-null    object \n",
      " 11  reviews.dateAdded     800 non-null    object \n",
      " 12  reviews.doRecommend   0 non-null      float64\n",
      " 13  reviews.id            0 non-null      float64\n",
      " 14  reviews.rating        800 non-null    float64\n",
      " 15  reviews.text          800 non-null    object \n",
      " 16  reviews.title         791 non-null    object \n",
      " 17  reviews.userCity      449 non-null    object \n",
      " 18  reviews.username      800 non-null    object \n",
      " 19  reviews.userProvince  452 non-null    object \n",
      "dtypes: float64(5), int64(2), object(13)\n",
      "memory usage: 125.1+ KB\n"
     ]
    }
   ],
   "source": [
    "data.info()"
   ]
  },
  {
   "cell_type": "markdown",
   "id": "850baeea",
   "metadata": {},
   "source": [
    "В данных есть очевидные проблемы:\n",
    "<ol>\n",
    "  <li><strong>Проблема с названиями столбцов</strong></li>\n",
    "  <li><strong>Два столбца с индексам</strong>и</li>\n",
    "  <li><strong>Пустые столбцы.</strong> Это не проблема импорта, а в самом csv файле эти данные отсутсвуют </li>\n",
    "  <li><strong>Странные символы в отзывах</strong></li>\n",
    "  <li><strong>Неправильный тип данных в столбцах со временем</strong></li>\n",
    "  <li><strong>Есть пропуски</strong>. Их количество оценим позже</li>\n",
    "</ol>\n",
    "Исправим все проблемы по порядку."
   ]
  },
  {
   "cell_type": "markdown",
   "id": "0fd51cef",
   "metadata": {},
   "source": [
    "## Уберем лишние слова и приведем к нижнему регистру"
   ]
  },
  {
   "cell_type": "code",
   "execution_count": 10,
   "id": "215d20d6",
   "metadata": {},
   "outputs": [
    {
     "data": {
      "text/plain": [
       "Index(['Unnamed: 0', 'address', 'categories', 'city', 'country', 'latitude',\n",
       "       'longitude', 'name', 'postalCode', 'province', 'reviews.date',\n",
       "       'reviews.dateAdded', 'reviews.doRecommend', 'reviews.id',\n",
       "       'reviews.rating', 'reviews.text', 'reviews.title', 'reviews.userCity',\n",
       "       'reviews.username', 'reviews.userProvince'],\n",
       "      dtype='object')"
      ]
     },
     "execution_count": 10,
     "metadata": {},
     "output_type": "execute_result"
    }
   ],
   "source": [
    "data.columns"
   ]
  },
  {
   "cell_type": "code",
   "execution_count": 23,
   "id": "1ca6e17a",
   "metadata": {},
   "outputs": [
    {
     "data": {
      "text/plain": [
       "Index(['unnamed: 0', 'address', 'categories', 'city', 'country', 'latitude',\n",
       "       'longitude', 'name', 'postalcode', 'province', 'date', 'dateadded',\n",
       "       'dorecommend', 'id', 'rating', 'text', 'title', 'usercity', 'username',\n",
       "       'userprovince'],\n",
       "      dtype='object')"
      ]
     },
     "execution_count": 23,
     "metadata": {},
     "output_type": "execute_result"
    }
   ],
   "source": [
    "data.columns = ['Unnamed: 0', 'address', 'categories', 'city', 'country', 'latitude',\n",
    "       'longitude', 'name', 'postalCode', 'province', 'date',\n",
    "       'dateAdded', 'doRecommend', 'id',\n",
    "       'rating', 'text', 'title', 'userCity',\n",
    "       'username', 'userProvince']\n",
    "data.columns = data.columns.str.lower()\n",
    "data.columns"
   ]
  },
  {
   "cell_type": "markdown",
   "id": "07c366c0",
   "metadata": {},
   "source": [
    "## Избавимся от лишних столбцов"
   ]
  },
  {
   "cell_type": "code",
   "execution_count": 24,
   "id": "500c1668",
   "metadata": {
    "scrolled": true
   },
   "outputs": [
    {
     "data": {
      "text/html": [
       "<div>\n",
       "<style scoped>\n",
       "    .dataframe tbody tr th:only-of-type {\n",
       "        vertical-align: middle;\n",
       "    }\n",
       "\n",
       "    .dataframe tbody tr th {\n",
       "        vertical-align: top;\n",
       "    }\n",
       "\n",
       "    .dataframe thead th {\n",
       "        text-align: right;\n",
       "    }\n",
       "</style>\n",
       "<table border=\"1\" class=\"dataframe\">\n",
       "  <thead>\n",
       "    <tr style=\"text-align: right;\">\n",
       "      <th></th>\n",
       "      <th>address</th>\n",
       "      <th>categories</th>\n",
       "      <th>city</th>\n",
       "      <th>country</th>\n",
       "      <th>latitude</th>\n",
       "      <th>longitude</th>\n",
       "      <th>name</th>\n",
       "      <th>postalcode</th>\n",
       "      <th>province</th>\n",
       "      <th>date</th>\n",
       "      <th>dateadded</th>\n",
       "      <th>rating</th>\n",
       "      <th>text</th>\n",
       "      <th>title</th>\n",
       "      <th>usercity</th>\n",
       "      <th>username</th>\n",
       "      <th>userprovince</th>\n",
       "    </tr>\n",
       "  </thead>\n",
       "  <tbody>\n",
       "    <tr>\n",
       "      <th>0</th>\n",
       "      <td>Riviera San Nicol 11/a</td>\n",
       "      <td>Hotels</td>\n",
       "      <td>Mableton</td>\n",
       "      <td>US</td>\n",
       "      <td>45.421611</td>\n",
       "      <td>12.376187</td>\n",
       "      <td>Hotel Russo Palace</td>\n",
       "      <td>30126</td>\n",
       "      <td>GA</td>\n",
       "      <td>2013-09-22T00:00:00Z</td>\n",
       "      <td>2016-10-24T00:00:25Z</td>\n",
       "      <td>4.0</td>\n",
       "      <td>Pleasant 10 min walk along the sea front to th...</td>\n",
       "      <td>Good location away from the crouds</td>\n",
       "      <td>NaN</td>\n",
       "      <td>Russ (kent)</td>\n",
       "      <td>NaN</td>\n",
       "    </tr>\n",
       "    <tr>\n",
       "      <th>1</th>\n",
       "      <td>Riviera San Nicol 11/a</td>\n",
       "      <td>Hotels</td>\n",
       "      <td>Mableton</td>\n",
       "      <td>US</td>\n",
       "      <td>45.421611</td>\n",
       "      <td>12.376187</td>\n",
       "      <td>Hotel Russo Palace</td>\n",
       "      <td>30126</td>\n",
       "      <td>GA</td>\n",
       "      <td>2015-04-03T00:00:00Z</td>\n",
       "      <td>2016-10-24T00:00:25Z</td>\n",
       "      <td>5.0</td>\n",
       "      <td>Really lovely hotel. Stayed on the very top fl...</td>\n",
       "      <td>Great hotel with Jacuzzi bath!</td>\n",
       "      <td>NaN</td>\n",
       "      <td>A Traveler</td>\n",
       "      <td>NaN</td>\n",
       "    </tr>\n",
       "    <tr>\n",
       "      <th>2</th>\n",
       "      <td>Riviera San Nicol 11/a</td>\n",
       "      <td>Hotels</td>\n",
       "      <td>Mableton</td>\n",
       "      <td>US</td>\n",
       "      <td>45.421611</td>\n",
       "      <td>12.376187</td>\n",
       "      <td>Hotel Russo Palace</td>\n",
       "      <td>30126</td>\n",
       "      <td>GA</td>\n",
       "      <td>2014-05-13T00:00:00Z</td>\n",
       "      <td>2016-10-24T00:00:25Z</td>\n",
       "      <td>5.0</td>\n",
       "      <td>Ett mycket bra hotell. Det som drog ner betyge...</td>\n",
       "      <td>Lugnt l��ge</td>\n",
       "      <td>NaN</td>\n",
       "      <td>Maud</td>\n",
       "      <td>NaN</td>\n",
       "    </tr>\n",
       "    <tr>\n",
       "      <th>3</th>\n",
       "      <td>Riviera San Nicol 11/a</td>\n",
       "      <td>Hotels</td>\n",
       "      <td>Mableton</td>\n",
       "      <td>US</td>\n",
       "      <td>45.421611</td>\n",
       "      <td>12.376187</td>\n",
       "      <td>Hotel Russo Palace</td>\n",
       "      <td>30126</td>\n",
       "      <td>GA</td>\n",
       "      <td>2013-10-27T00:00:00Z</td>\n",
       "      <td>2016-10-24T00:00:25Z</td>\n",
       "      <td>5.0</td>\n",
       "      <td>We stayed here for four nights in October. The...</td>\n",
       "      <td>Good location on the Lido.</td>\n",
       "      <td>NaN</td>\n",
       "      <td>Julie</td>\n",
       "      <td>NaN</td>\n",
       "    </tr>\n",
       "    <tr>\n",
       "      <th>4</th>\n",
       "      <td>Riviera San Nicol 11/a</td>\n",
       "      <td>Hotels</td>\n",
       "      <td>Mableton</td>\n",
       "      <td>US</td>\n",
       "      <td>45.421611</td>\n",
       "      <td>12.376187</td>\n",
       "      <td>Hotel Russo Palace</td>\n",
       "      <td>30126</td>\n",
       "      <td>GA</td>\n",
       "      <td>2015-03-05T00:00:00Z</td>\n",
       "      <td>2016-10-24T00:00:25Z</td>\n",
       "      <td>5.0</td>\n",
       "      <td>We stayed here for four nights in October. The...</td>\n",
       "      <td>������ ���������������</td>\n",
       "      <td>NaN</td>\n",
       "      <td>sungchul</td>\n",
       "      <td>NaN</td>\n",
       "    </tr>\n",
       "  </tbody>\n",
       "</table>\n",
       "</div>"
      ],
      "text/plain": [
       "                  address categories      city country   latitude  longitude  \\\n",
       "0  Riviera San Nicol 11/a     Hotels  Mableton      US  45.421611  12.376187   \n",
       "1  Riviera San Nicol 11/a     Hotels  Mableton      US  45.421611  12.376187   \n",
       "2  Riviera San Nicol 11/a     Hotels  Mableton      US  45.421611  12.376187   \n",
       "3  Riviera San Nicol 11/a     Hotels  Mableton      US  45.421611  12.376187   \n",
       "4  Riviera San Nicol 11/a     Hotels  Mableton      US  45.421611  12.376187   \n",
       "\n",
       "                 name  postalcode province                  date  \\\n",
       "0  Hotel Russo Palace       30126       GA  2013-09-22T00:00:00Z   \n",
       "1  Hotel Russo Palace       30126       GA  2015-04-03T00:00:00Z   \n",
       "2  Hotel Russo Palace       30126       GA  2014-05-13T00:00:00Z   \n",
       "3  Hotel Russo Palace       30126       GA  2013-10-27T00:00:00Z   \n",
       "4  Hotel Russo Palace       30126       GA  2015-03-05T00:00:00Z   \n",
       "\n",
       "              dateadded  rating  \\\n",
       "0  2016-10-24T00:00:25Z     4.0   \n",
       "1  2016-10-24T00:00:25Z     5.0   \n",
       "2  2016-10-24T00:00:25Z     5.0   \n",
       "3  2016-10-24T00:00:25Z     5.0   \n",
       "4  2016-10-24T00:00:25Z     5.0   \n",
       "\n",
       "                                                text  \\\n",
       "0  Pleasant 10 min walk along the sea front to th...   \n",
       "1  Really lovely hotel. Stayed on the very top fl...   \n",
       "2  Ett mycket bra hotell. Det som drog ner betyge...   \n",
       "3  We stayed here for four nights in October. The...   \n",
       "4  We stayed here for four nights in October. The...   \n",
       "\n",
       "                                title usercity     username userprovince  \n",
       "0  Good location away from the crouds      NaN  Russ (kent)          NaN  \n",
       "1      Great hotel with Jacuzzi bath!      NaN   A Traveler          NaN  \n",
       "2                         Lugnt l��ge      NaN         Maud          NaN  \n",
       "3          Good location on the Lido.      NaN        Julie          NaN  \n",
       "4              ������ ���������������      NaN     sungchul          NaN  "
      ]
     },
     "execution_count": 24,
     "metadata": {},
     "output_type": "execute_result"
    }
   ],
   "source": [
    "data = data.drop(['unnamed: 0', 'dorecommend', 'id'], axis = 1)\n",
    "data.head()"
   ]
  },
  {
   "cell_type": "markdown",
   "id": "19264c26",
   "metadata": {},
   "source": [
    "К сожалению, мы лишены возможности посмотреть столбец 'dorecommend', потому-что это звучит как целевой признак, но возможно, у нас будет возможность восстанновить эту информацию из рейтинга. Раз нам дал выборку из 800 наблюдений, мы не можем просто скачать изначальную совокупность.\n",
    "\n",
    "Тут встает очередная проблема. Мало данных для обучения и проверки нашей модели. придется использовать кросс-валидацию, чтобы не терять данные."
   ]
  },
  {
   "cell_type": "markdown",
   "id": "52722f8e",
   "metadata": {},
   "source": [
    "## Избавляемся от шума и лишних пробелов в отзывах"
   ]
  },
  {
   "cell_type": "code",
   "execution_count": 25,
   "id": "2bd00612",
   "metadata": {
    "scrolled": true
   },
   "outputs": [
    {
     "data": {
      "text/html": [
       "<div>\n",
       "<style scoped>\n",
       "    .dataframe tbody tr th:only-of-type {\n",
       "        vertical-align: middle;\n",
       "    }\n",
       "\n",
       "    .dataframe tbody tr th {\n",
       "        vertical-align: top;\n",
       "    }\n",
       "\n",
       "    .dataframe thead th {\n",
       "        text-align: right;\n",
       "    }\n",
       "</style>\n",
       "<table border=\"1\" class=\"dataframe\">\n",
       "  <thead>\n",
       "    <tr style=\"text-align: right;\">\n",
       "      <th></th>\n",
       "      <th>address</th>\n",
       "      <th>categories</th>\n",
       "      <th>city</th>\n",
       "      <th>country</th>\n",
       "      <th>latitude</th>\n",
       "      <th>longitude</th>\n",
       "      <th>name</th>\n",
       "      <th>postalcode</th>\n",
       "      <th>province</th>\n",
       "      <th>date</th>\n",
       "      <th>dateadded</th>\n",
       "      <th>rating</th>\n",
       "      <th>text</th>\n",
       "      <th>title</th>\n",
       "      <th>usercity</th>\n",
       "      <th>username</th>\n",
       "      <th>userprovince</th>\n",
       "    </tr>\n",
       "  </thead>\n",
       "  <tbody>\n",
       "    <tr>\n",
       "      <th>0</th>\n",
       "      <td>Riviera San Nicol 11/a</td>\n",
       "      <td>Hotels</td>\n",
       "      <td>Mableton</td>\n",
       "      <td>US</td>\n",
       "      <td>45.421611</td>\n",
       "      <td>12.376187</td>\n",
       "      <td>Hotel Russo Palace</td>\n",
       "      <td>30126</td>\n",
       "      <td>GA</td>\n",
       "      <td>2013-09-22T00:00:00Z</td>\n",
       "      <td>2016-10-24T00:00:25Z</td>\n",
       "      <td>4.0</td>\n",
       "      <td>Pleasant min walk along the sea front to the W...</td>\n",
       "      <td>Good location away from the crouds</td>\n",
       "      <td>NaN</td>\n",
       "      <td>Russ (kent)</td>\n",
       "      <td>NaN</td>\n",
       "    </tr>\n",
       "    <tr>\n",
       "      <th>1</th>\n",
       "      <td>Riviera San Nicol 11/a</td>\n",
       "      <td>Hotels</td>\n",
       "      <td>Mableton</td>\n",
       "      <td>US</td>\n",
       "      <td>45.421611</td>\n",
       "      <td>12.376187</td>\n",
       "      <td>Hotel Russo Palace</td>\n",
       "      <td>30126</td>\n",
       "      <td>GA</td>\n",
       "      <td>2015-04-03T00:00:00Z</td>\n",
       "      <td>2016-10-24T00:00:25Z</td>\n",
       "      <td>5.0</td>\n",
       "      <td>Really lovely hotel Stayed on the very top flo...</td>\n",
       "      <td>Great hotel with Jacuzzi bath</td>\n",
       "      <td>NaN</td>\n",
       "      <td>A Traveler</td>\n",
       "      <td>NaN</td>\n",
       "    </tr>\n",
       "    <tr>\n",
       "      <th>2</th>\n",
       "      <td>Riviera San Nicol 11/a</td>\n",
       "      <td>Hotels</td>\n",
       "      <td>Mableton</td>\n",
       "      <td>US</td>\n",
       "      <td>45.421611</td>\n",
       "      <td>12.376187</td>\n",
       "      <td>Hotel Russo Palace</td>\n",
       "      <td>30126</td>\n",
       "      <td>GA</td>\n",
       "      <td>2014-05-13T00:00:00Z</td>\n",
       "      <td>2016-10-24T00:00:25Z</td>\n",
       "      <td>5.0</td>\n",
       "      <td>Ett mycket bra hotell Det som drog ner betyget...</td>\n",
       "      <td>Lugnt l ge</td>\n",
       "      <td>NaN</td>\n",
       "      <td>Maud</td>\n",
       "      <td>NaN</td>\n",
       "    </tr>\n",
       "    <tr>\n",
       "      <th>3</th>\n",
       "      <td>Riviera San Nicol 11/a</td>\n",
       "      <td>Hotels</td>\n",
       "      <td>Mableton</td>\n",
       "      <td>US</td>\n",
       "      <td>45.421611</td>\n",
       "      <td>12.376187</td>\n",
       "      <td>Hotel Russo Palace</td>\n",
       "      <td>30126</td>\n",
       "      <td>GA</td>\n",
       "      <td>2013-10-27T00:00:00Z</td>\n",
       "      <td>2016-10-24T00:00:25Z</td>\n",
       "      <td>5.0</td>\n",
       "      <td>We stayed here for four nights in October The ...</td>\n",
       "      <td>Good location on the Lido</td>\n",
       "      <td>NaN</td>\n",
       "      <td>Julie</td>\n",
       "      <td>NaN</td>\n",
       "    </tr>\n",
       "    <tr>\n",
       "      <th>4</th>\n",
       "      <td>Riviera San Nicol 11/a</td>\n",
       "      <td>Hotels</td>\n",
       "      <td>Mableton</td>\n",
       "      <td>US</td>\n",
       "      <td>45.421611</td>\n",
       "      <td>12.376187</td>\n",
       "      <td>Hotel Russo Palace</td>\n",
       "      <td>30126</td>\n",
       "      <td>GA</td>\n",
       "      <td>2015-03-05T00:00:00Z</td>\n",
       "      <td>2016-10-24T00:00:25Z</td>\n",
       "      <td>5.0</td>\n",
       "      <td>We stayed here for four nights in October The ...</td>\n",
       "      <td></td>\n",
       "      <td>NaN</td>\n",
       "      <td>sungchul</td>\n",
       "      <td>NaN</td>\n",
       "    </tr>\n",
       "  </tbody>\n",
       "</table>\n",
       "</div>"
      ],
      "text/plain": [
       "                  address categories      city country   latitude  longitude  \\\n",
       "0  Riviera San Nicol 11/a     Hotels  Mableton      US  45.421611  12.376187   \n",
       "1  Riviera San Nicol 11/a     Hotels  Mableton      US  45.421611  12.376187   \n",
       "2  Riviera San Nicol 11/a     Hotels  Mableton      US  45.421611  12.376187   \n",
       "3  Riviera San Nicol 11/a     Hotels  Mableton      US  45.421611  12.376187   \n",
       "4  Riviera San Nicol 11/a     Hotels  Mableton      US  45.421611  12.376187   \n",
       "\n",
       "                 name  postalcode province                  date  \\\n",
       "0  Hotel Russo Palace       30126       GA  2013-09-22T00:00:00Z   \n",
       "1  Hotel Russo Palace       30126       GA  2015-04-03T00:00:00Z   \n",
       "2  Hotel Russo Palace       30126       GA  2014-05-13T00:00:00Z   \n",
       "3  Hotel Russo Palace       30126       GA  2013-10-27T00:00:00Z   \n",
       "4  Hotel Russo Palace       30126       GA  2015-03-05T00:00:00Z   \n",
       "\n",
       "              dateadded  rating  \\\n",
       "0  2016-10-24T00:00:25Z     4.0   \n",
       "1  2016-10-24T00:00:25Z     5.0   \n",
       "2  2016-10-24T00:00:25Z     5.0   \n",
       "3  2016-10-24T00:00:25Z     5.0   \n",
       "4  2016-10-24T00:00:25Z     5.0   \n",
       "\n",
       "                                                text  \\\n",
       "0  Pleasant min walk along the sea front to the W...   \n",
       "1  Really lovely hotel Stayed on the very top flo...   \n",
       "2  Ett mycket bra hotell Det som drog ner betyget...   \n",
       "3  We stayed here for four nights in October The ...   \n",
       "4  We stayed here for four nights in October The ...   \n",
       "\n",
       "                                title usercity     username userprovince  \n",
       "0  Good location away from the crouds      NaN  Russ (kent)          NaN  \n",
       "1       Great hotel with Jacuzzi bath      NaN   A Traveler          NaN  \n",
       "2                          Lugnt l ge      NaN         Maud          NaN  \n",
       "3           Good location on the Lido      NaN        Julie          NaN  \n",
       "4                                          NaN     sungchul          NaN  "
      ]
     },
     "execution_count": 25,
     "metadata": {},
     "output_type": "execute_result"
    }
   ],
   "source": [
    "data['text'] = data['text'].apply(lambda x: \" \".join(re.sub(r\"[^a-zA-Z' ]\", ' ', str(x)).split()))\n",
    "data['title'] = data['title'].apply(lambda x: \" \".join(re.sub(r\"[^a-zA-Z' ]\", ' ', str(x)).split()))\n",
    "data.head()\n",
    "# Бритва Оккама)"
   ]
  },
  {
   "cell_type": "code",
   "execution_count": 26,
   "id": "3e731d95",
   "metadata": {
    "scrolled": true
   },
   "outputs": [
    {
     "data": {
      "text/html": [
       "<div>\n",
       "<style scoped>\n",
       "    .dataframe tbody tr th:only-of-type {\n",
       "        vertical-align: middle;\n",
       "    }\n",
       "\n",
       "    .dataframe tbody tr th {\n",
       "        vertical-align: top;\n",
       "    }\n",
       "\n",
       "    .dataframe thead th {\n",
       "        text-align: right;\n",
       "    }\n",
       "</style>\n",
       "<table border=\"1\" class=\"dataframe\">\n",
       "  <thead>\n",
       "    <tr style=\"text-align: right;\">\n",
       "      <th></th>\n",
       "      <th>address</th>\n",
       "      <th>categories</th>\n",
       "      <th>city</th>\n",
       "      <th>country</th>\n",
       "      <th>latitude</th>\n",
       "      <th>longitude</th>\n",
       "      <th>name</th>\n",
       "      <th>postalcode</th>\n",
       "      <th>province</th>\n",
       "      <th>date</th>\n",
       "      <th>dateadded</th>\n",
       "      <th>rating</th>\n",
       "      <th>text</th>\n",
       "      <th>title</th>\n",
       "      <th>usercity</th>\n",
       "      <th>username</th>\n",
       "      <th>userprovince</th>\n",
       "    </tr>\n",
       "  </thead>\n",
       "  <tbody>\n",
       "    <tr>\n",
       "      <th>0</th>\n",
       "      <td>Riviera San Nicol 11/a</td>\n",
       "      <td>Hotels</td>\n",
       "      <td>Mableton</td>\n",
       "      <td>US</td>\n",
       "      <td>45.421611</td>\n",
       "      <td>12.376187</td>\n",
       "      <td>Hotel Russo Palace</td>\n",
       "      <td>30126</td>\n",
       "      <td>GA</td>\n",
       "      <td>2013-09-22</td>\n",
       "      <td>2016-10-24 00:00:25</td>\n",
       "      <td>4.0</td>\n",
       "      <td>Pleasant min walk along the sea front to the W...</td>\n",
       "      <td>Good location away from the crouds</td>\n",
       "      <td>NaN</td>\n",
       "      <td>Russ (kent)</td>\n",
       "      <td>NaN</td>\n",
       "    </tr>\n",
       "    <tr>\n",
       "      <th>1</th>\n",
       "      <td>Riviera San Nicol 11/a</td>\n",
       "      <td>Hotels</td>\n",
       "      <td>Mableton</td>\n",
       "      <td>US</td>\n",
       "      <td>45.421611</td>\n",
       "      <td>12.376187</td>\n",
       "      <td>Hotel Russo Palace</td>\n",
       "      <td>30126</td>\n",
       "      <td>GA</td>\n",
       "      <td>2015-04-03</td>\n",
       "      <td>2016-10-24 00:00:25</td>\n",
       "      <td>5.0</td>\n",
       "      <td>Really lovely hotel Stayed on the very top flo...</td>\n",
       "      <td>Great hotel with Jacuzzi bath</td>\n",
       "      <td>NaN</td>\n",
       "      <td>A Traveler</td>\n",
       "      <td>NaN</td>\n",
       "    </tr>\n",
       "    <tr>\n",
       "      <th>2</th>\n",
       "      <td>Riviera San Nicol 11/a</td>\n",
       "      <td>Hotels</td>\n",
       "      <td>Mableton</td>\n",
       "      <td>US</td>\n",
       "      <td>45.421611</td>\n",
       "      <td>12.376187</td>\n",
       "      <td>Hotel Russo Palace</td>\n",
       "      <td>30126</td>\n",
       "      <td>GA</td>\n",
       "      <td>2014-05-13</td>\n",
       "      <td>2016-10-24 00:00:25</td>\n",
       "      <td>5.0</td>\n",
       "      <td>Ett mycket bra hotell Det som drog ner betyget...</td>\n",
       "      <td>Lugnt l ge</td>\n",
       "      <td>NaN</td>\n",
       "      <td>Maud</td>\n",
       "      <td>NaN</td>\n",
       "    </tr>\n",
       "    <tr>\n",
       "      <th>3</th>\n",
       "      <td>Riviera San Nicol 11/a</td>\n",
       "      <td>Hotels</td>\n",
       "      <td>Mableton</td>\n",
       "      <td>US</td>\n",
       "      <td>45.421611</td>\n",
       "      <td>12.376187</td>\n",
       "      <td>Hotel Russo Palace</td>\n",
       "      <td>30126</td>\n",
       "      <td>GA</td>\n",
       "      <td>2013-10-27</td>\n",
       "      <td>2016-10-24 00:00:25</td>\n",
       "      <td>5.0</td>\n",
       "      <td>We stayed here for four nights in October The ...</td>\n",
       "      <td>Good location on the Lido</td>\n",
       "      <td>NaN</td>\n",
       "      <td>Julie</td>\n",
       "      <td>NaN</td>\n",
       "    </tr>\n",
       "    <tr>\n",
       "      <th>4</th>\n",
       "      <td>Riviera San Nicol 11/a</td>\n",
       "      <td>Hotels</td>\n",
       "      <td>Mableton</td>\n",
       "      <td>US</td>\n",
       "      <td>45.421611</td>\n",
       "      <td>12.376187</td>\n",
       "      <td>Hotel Russo Palace</td>\n",
       "      <td>30126</td>\n",
       "      <td>GA</td>\n",
       "      <td>2015-03-05</td>\n",
       "      <td>2016-10-24 00:00:25</td>\n",
       "      <td>5.0</td>\n",
       "      <td>We stayed here for four nights in October The ...</td>\n",
       "      <td></td>\n",
       "      <td>NaN</td>\n",
       "      <td>sungchul</td>\n",
       "      <td>NaN</td>\n",
       "    </tr>\n",
       "  </tbody>\n",
       "</table>\n",
       "</div>"
      ],
      "text/plain": [
       "                  address categories      city country   latitude  longitude  \\\n",
       "0  Riviera San Nicol 11/a     Hotels  Mableton      US  45.421611  12.376187   \n",
       "1  Riviera San Nicol 11/a     Hotels  Mableton      US  45.421611  12.376187   \n",
       "2  Riviera San Nicol 11/a     Hotels  Mableton      US  45.421611  12.376187   \n",
       "3  Riviera San Nicol 11/a     Hotels  Mableton      US  45.421611  12.376187   \n",
       "4  Riviera San Nicol 11/a     Hotels  Mableton      US  45.421611  12.376187   \n",
       "\n",
       "                 name  postalcode province       date           dateadded  \\\n",
       "0  Hotel Russo Palace       30126       GA 2013-09-22 2016-10-24 00:00:25   \n",
       "1  Hotel Russo Palace       30126       GA 2015-04-03 2016-10-24 00:00:25   \n",
       "2  Hotel Russo Palace       30126       GA 2014-05-13 2016-10-24 00:00:25   \n",
       "3  Hotel Russo Palace       30126       GA 2013-10-27 2016-10-24 00:00:25   \n",
       "4  Hotel Russo Palace       30126       GA 2015-03-05 2016-10-24 00:00:25   \n",
       "\n",
       "   rating                                               text  \\\n",
       "0     4.0  Pleasant min walk along the sea front to the W...   \n",
       "1     5.0  Really lovely hotel Stayed on the very top flo...   \n",
       "2     5.0  Ett mycket bra hotell Det som drog ner betyget...   \n",
       "3     5.0  We stayed here for four nights in October The ...   \n",
       "4     5.0  We stayed here for four nights in October The ...   \n",
       "\n",
       "                                title usercity     username userprovince  \n",
       "0  Good location away from the crouds      NaN  Russ (kent)          NaN  \n",
       "1       Great hotel with Jacuzzi bath      NaN   A Traveler          NaN  \n",
       "2                          Lugnt l ge      NaN         Maud          NaN  \n",
       "3           Good location on the Lido      NaN        Julie          NaN  \n",
       "4                                          NaN     sungchul          NaN  "
      ]
     },
     "execution_count": 26,
     "metadata": {},
     "output_type": "execute_result"
    }
   ],
   "source": [
    "data['date'] = [str(x).replace('Z', '').replace('T', 'Z') for x in data['date']]\n",
    "data['date'] = pd.to_datetime(data['date'], format='%Y-%m-%dZ%H:%M:%S')\n",
    "\n",
    "data['dateadded'] = [str(x).replace('Z', '').replace('T', 'Z') for x in data['dateadded']]\n",
    "data['dateadded'] = pd.to_datetime(data['dateadded'], format='%Y-%m-%dZ%H:%M:%S')\n",
    "\n",
    "data.head()"
   ]
  },
  {
   "cell_type": "markdown",
   "id": "34decf53",
   "metadata": {},
   "source": [
    "## Избавимся от пропусков и явных дубликатов"
   ]
  },
  {
   "cell_type": "code",
   "execution_count": 221,
   "id": "c63ef9d2",
   "metadata": {},
   "outputs": [
    {
     "data": {
      "text/plain": [
       "'0.0% явных дубликатов в датасете'"
      ]
     },
     "execution_count": 221,
     "metadata": {},
     "output_type": "execute_result"
    }
   ],
   "source": [
    "f'{data.duplicated().mean()*100}% явных дубликатов в датасете'"
   ]
  },
  {
   "cell_type": "markdown",
   "id": "71304468",
   "metadata": {},
   "source": [
    "Один явный дубликат. Удалить"
   ]
  },
  {
   "cell_type": "code",
   "execution_count": 27,
   "id": "96027dfa",
   "metadata": {},
   "outputs": [],
   "source": [
    "data = data.drop_duplicates()"
   ]
  },
  {
   "cell_type": "code",
   "execution_count": 52,
   "id": "4b7ab0ad",
   "metadata": {
    "scrolled": true
   },
   "outputs": [
    {
     "name": "stdout",
     "output_type": "stream",
     "text": [
      "<class 'pandas.core.frame.DataFrame'>\n",
      "RangeIndex: 800 entries, 0 to 799\n",
      "Data columns (total 17 columns):\n",
      " #   Column        Non-Null Count  Dtype  \n",
      "---  ------        --------------  -----  \n",
      " 0   address       800 non-null    object \n",
      " 1   categories    800 non-null    object \n",
      " 2   city          800 non-null    object \n",
      " 3   country       800 non-null    object \n",
      " 4   latitude      800 non-null    float64\n",
      " 5   longitude     800 non-null    float64\n",
      " 6   name          800 non-null    object \n",
      " 7   postalcode    800 non-null    int64  \n",
      " 8   province      800 non-null    object \n",
      " 9   date          800 non-null    object \n",
      " 10  dateadded     800 non-null    object \n",
      " 11  rating        800 non-null    float64\n",
      " 12  text          800 non-null    object \n",
      " 13  title         800 non-null    object \n",
      " 14  usercity      449 non-null    object \n",
      " 15  username      800 non-null    object \n",
      " 16  userprovince  452 non-null    object \n",
      "dtypes: float64(3), int64(1), object(13)\n",
      "memory usage: 106.4+ KB\n"
     ]
    }
   ],
   "source": [
    "data.info()"
   ]
  },
  {
   "cell_type": "markdown",
   "id": "a3da14d2",
   "metadata": {},
   "source": [
    "мы заменили пропуски в столбце title, но там было 8 пропусков, и они сильно не повлияют на результат. давайте посмотрим на распределение в usercity и userprovince"
   ]
  },
  {
   "cell_type": "code",
   "execution_count": 73,
   "id": "3706c109",
   "metadata": {},
   "outputs": [
    {
     "data": {
      "text/plain": [
       "Massachusetts    29\n",
       "Gettysburg PA    17\n",
       "Lunenburg        17\n",
       "Belmont NH       17\n",
       "Morrisville      16\n",
       "                 ..\n",
       "houston           1\n",
       "Phoenix           1\n",
       "Huntsville        1\n",
       "Pontefract        1\n",
       "United States     1\n",
       "Name: usercity, Length: 130, dtype: int64"
      ]
     },
     "execution_count": 73,
     "metadata": {},
     "output_type": "execute_result"
    }
   ],
   "source": [
    "data['usercity'].value_counts()"
   ]
  },
  {
   "cell_type": "code",
   "execution_count": 74,
   "id": "0d72dac5",
   "metadata": {},
   "outputs": [
    {
     "data": {
      "text/plain": [
       "New York             46\n",
       "ME                   44\n",
       "TX                   23\n",
       "NH                   20\n",
       "MA                   19\n",
       "                     ..\n",
       "West Greenwich RI     1\n",
       "WV                    1\n",
       "Minneapolis           1\n",
       "Worb Schweiz          1\n",
       "GA                    1\n",
       "Name: userprovince, Length: 61, dtype: int64"
      ]
     },
     "execution_count": 74,
     "metadata": {},
     "output_type": "execute_result"
    }
   ],
   "source": [
    "data['userprovince'].value_counts()"
   ]
  },
  {
   "cell_type": "markdown",
   "id": "130da8bc",
   "metadata": {},
   "source": [
    "заполнить самым частовстречаюшимся значением будет неправильно, потому что категории равномерно распределены и нельзя добавлять 400 наблюдений к этой категории.\n",
    "Возможно, можно будет наверняка восстановить штат по городу и неявно восстановить штат по городу. но скорее всего, где отсутсвует штат там и отсутвует и город. давайте проверим."
   ]
  },
  {
   "cell_type": "code",
   "execution_count": 78,
   "id": "ac36ea39",
   "metadata": {},
   "outputs": [
    {
     "data": {
      "text/plain": [
       "358"
      ]
     },
     "execution_count": 78,
     "metadata": {},
     "output_type": "execute_result"
    }
   ],
   "source": [
    "len((data[data['usercity'].isna() | data['userprovince'].isna()])) # смотрим на пересечения этих множеств"
   ]
  },
  {
   "cell_type": "markdown",
   "id": "ad42a787",
   "metadata": {},
   "source": [
    "Да, к сожалению так и есть. мы не сможем восстановить локацию гостей отеля.\n",
    "\n",
    "но и удалять пропуски нельзя, потому-что в этом случае мы потеряем больше трети данных"
   ]
  },
  {
   "cell_type": "markdown",
   "id": "c9dd311c",
   "metadata": {},
   "source": [
    "# Анализ"
   ]
  },
  {
   "cell_type": "markdown",
   "id": "dd4fcc44",
   "metadata": {},
   "source": [
    "Нас попросили посмотреть на то, как характеристики локации отеля влияет на отзывы. Вообще, штат - категориальный признак и мы можем либо закодировать его(чтобы посмотреть на корреляцию, например по региону) либо просто составить сводную таблицу.\n",
    "\n",
    "Нам предлагают проанализировать отзывы на основе бюджета и популяции штата. В таблице этих данных нет, надо будет добавлять их вручную. добавлять..."
   ]
  },
  {
   "cell_type": "code",
   "execution_count": 87,
   "id": "80c4599b",
   "metadata": {},
   "outputs": [
    {
     "data": {
      "text/plain": [
       "17"
      ]
     },
     "execution_count": 87,
     "metadata": {},
     "output_type": "execute_result"
    }
   ],
   "source": [
    "len(data['province'].unique())"
   ]
  },
  {
   "cell_type": "markdown",
   "id": "81b4c1a1",
   "metadata": {},
   "source": [
    "...34 ячейки руками - неблагодарная затея, рассмотрим топ 5 лучших и худших отелей по рейтингу.\n",
    "\n",
    "но прежде чем это сделать, давайте посмотрим, все ли в порядке с рейтингом"
   ]
  },
  {
   "cell_type": "code",
   "execution_count": 88,
   "id": "c2879343",
   "metadata": {},
   "outputs": [
    {
     "data": {
      "text/plain": [
       "count    799.000000\n",
       "mean       3.865457\n",
       "std        1.195012\n",
       "min        0.000000\n",
       "25%        3.000000\n",
       "50%        4.000000\n",
       "75%        5.000000\n",
       "max        5.000000\n",
       "Name: rating, dtype: float64"
      ]
     },
     "execution_count": 88,
     "metadata": {},
     "output_type": "execute_result"
    }
   ],
   "source": [
    "data['rating'].describe()"
   ]
  },
  {
   "cell_type": "code",
   "execution_count": 98,
   "id": "8c5c37a3",
   "metadata": {},
   "outputs": [
    {
     "data": {
      "text/plain": [
       "array([4. , 5. , 3. , 1. , 2. , 0. , 4.1])"
      ]
     },
     "execution_count": 98,
     "metadata": {},
     "output_type": "execute_result"
    }
   ],
   "source": [
    "data['rating'].unique()"
   ]
  },
  {
   "cell_type": "code",
   "execution_count": 28,
   "id": "0c4a0229",
   "metadata": {},
   "outputs": [
    {
     "data": {
      "text/plain": [
       "5"
      ]
     },
     "execution_count": 28,
     "metadata": {},
     "output_type": "execute_result"
    }
   ],
   "source": [
    "len(data[data['rating'] == 4.1])"
   ]
  },
  {
   "cell_type": "code",
   "execution_count": 29,
   "id": "64ef9964",
   "metadata": {},
   "outputs": [
    {
     "name": "stderr",
     "output_type": "stream",
     "text": [
      "C:\\Users\\DK\\AppData\\Local\\Temp/ipykernel_13136/4010095039.py:1: SettingWithCopyWarning: \n",
      "A value is trying to be set on a copy of a slice from a DataFrame.\n",
      "Try using .loc[row_indexer,col_indexer] = value instead\n",
      "\n",
      "See the caveats in the documentation: https://pandas.pydata.org/pandas-docs/stable/user_guide/indexing.html#returning-a-view-versus-a-copy\n",
      "  data[data['rating'] == 4.1]['rating'] = 4\n"
     ]
    }
   ],
   "source": [
    "data[data['rating'] == 4.1]['rating'] = 4"
   ]
  },
  {
   "cell_type": "markdown",
   "id": "a1714f7f",
   "metadata": {},
   "source": [
    "отлично, нет выбросов. мы работаем с пятибальной шкалой. давайте посмотрим на распределение среди всех штатов"
   ]
  },
  {
   "cell_type": "code",
   "execution_count": 250,
   "id": "7903b738",
   "metadata": {},
   "outputs": [
    {
     "data": {
      "image/png": "[encoded data removed]",
      "text/plain": [
       "<Figure size 1440x1152 with 1 Axes>"
      ]
     },
     "metadata": {},
     "output_type": "display_data"
    }
   ],
   "source": [
    "sns.histplot(data=data, x=\"rating\",color=\"purple\",bins = 5, kde=True).set_title(\"rating distribution\");"
   ]
  },
  {
   "cell_type": "markdown",
   "id": "855357f4",
   "metadata": {},
   "source": [
    "проблемы пятибальной системы оценивания. количество оценок 1 и 2, 4 и 5 примерно равны, а более точная система показала бы нам разницу. распределение сложно назвать нормальным, оно либо смещенно влево либо мы имеем честь работать с другим распределением."
   ]
  },
  {
   "cell_type": "markdown",
   "id": "10f0aeb1",
   "metadata": {},
   "source": [
    "теперь давайте посмотрим на средний рейтинг по штатам. имеенно средний, потому-что все значения находятся в диапазоне 1-5 и медиана здесь не нужна. но нужно учитывать отели, у которых достаточно отзывов, сейчас посмотрим на данные"
   ]
  },
  {
   "cell_type": "code",
   "execution_count": 106,
   "id": "a93bd3e7",
   "metadata": {},
   "outputs": [
    {
     "data": {
      "text/html": [
       "<div>\n",
       "<style scoped>\n",
       "    .dataframe tbody tr th:only-of-type {\n",
       "        vertical-align: middle;\n",
       "    }\n",
       "\n",
       "    .dataframe tbody tr th {\n",
       "        vertical-align: top;\n",
       "    }\n",
       "\n",
       "    .dataframe thead th {\n",
       "        text-align: right;\n",
       "    }\n",
       "</style>\n",
       "<table border=\"1\" class=\"dataframe\">\n",
       "  <thead>\n",
       "    <tr style=\"text-align: right;\">\n",
       "      <th></th>\n",
       "      <th>mean</th>\n",
       "      <th>count</th>\n",
       "    </tr>\n",
       "    <tr>\n",
       "      <th>province</th>\n",
       "      <th></th>\n",
       "      <th></th>\n",
       "    </tr>\n",
       "  </thead>\n",
       "  <tbody>\n",
       "    <tr>\n",
       "      <th>ME</th>\n",
       "      <td>3.676205</td>\n",
       "      <td>332</td>\n",
       "    </tr>\n",
       "    <tr>\n",
       "      <th>CA</th>\n",
       "      <td>4.018868</td>\n",
       "      <td>106</td>\n",
       "    </tr>\n",
       "    <tr>\n",
       "      <th>Bunker Hill Village</th>\n",
       "      <td>4.640625</td>\n",
       "      <td>64</td>\n",
       "    </tr>\n",
       "    <tr>\n",
       "      <th>Choconut Center</th>\n",
       "      <td>4.111111</td>\n",
       "      <td>63</td>\n",
       "    </tr>\n",
       "    <tr>\n",
       "      <th>GA</th>\n",
       "      <td>4.052632</td>\n",
       "      <td>57</td>\n",
       "    </tr>\n",
       "    <tr>\n",
       "      <th>PA</th>\n",
       "      <td>4.039216</td>\n",
       "      <td>51</td>\n",
       "    </tr>\n",
       "    <tr>\n",
       "      <th>AL</th>\n",
       "      <td>4.540541</td>\n",
       "      <td>37</td>\n",
       "    </tr>\n",
       "    <tr>\n",
       "      <th>OK</th>\n",
       "      <td>2.967742</td>\n",
       "      <td>31</td>\n",
       "    </tr>\n",
       "    <tr>\n",
       "      <th>Hono</th>\n",
       "      <td>3.095238</td>\n",
       "      <td>21</td>\n",
       "    </tr>\n",
       "    <tr>\n",
       "      <th>TX</th>\n",
       "      <td>3.294118</td>\n",
       "      <td>17</td>\n",
       "    </tr>\n",
       "    <tr>\n",
       "      <th>Lake Colby</th>\n",
       "      <td>4.750000</td>\n",
       "      <td>12</td>\n",
       "    </tr>\n",
       "    <tr>\n",
       "      <th>WA</th>\n",
       "      <td>4.000000</td>\n",
       "      <td>2</td>\n",
       "    </tr>\n",
       "    <tr>\n",
       "      <th>MT</th>\n",
       "      <td>0.000000</td>\n",
       "      <td>2</td>\n",
       "    </tr>\n",
       "    <tr>\n",
       "      <th>OR</th>\n",
       "      <td>0.000000</td>\n",
       "      <td>1</td>\n",
       "    </tr>\n",
       "    <tr>\n",
       "      <th>AZ</th>\n",
       "      <td>3.000000</td>\n",
       "      <td>1</td>\n",
       "    </tr>\n",
       "    <tr>\n",
       "      <th>Bloomingville</th>\n",
       "      <td>0.000000</td>\n",
       "      <td>1</td>\n",
       "    </tr>\n",
       "    <tr>\n",
       "      <th>IA</th>\n",
       "      <td>0.000000</td>\n",
       "      <td>1</td>\n",
       "    </tr>\n",
       "  </tbody>\n",
       "</table>\n",
       "</div>"
      ],
      "text/plain": [
       "                         mean  count\n",
       "province                            \n",
       "ME                   3.676205    332\n",
       "CA                   4.018868    106\n",
       "Bunker Hill Village  4.640625     64\n",
       "Choconut Center      4.111111     63\n",
       "GA                   4.052632     57\n",
       "PA                   4.039216     51\n",
       "AL                   4.540541     37\n",
       "OK                   2.967742     31\n",
       "Hono                 3.095238     21\n",
       "TX                   3.294118     17\n",
       "Lake Colby           4.750000     12\n",
       "WA                   4.000000      2\n",
       "MT                   0.000000      2\n",
       "OR                   0.000000      1\n",
       "AZ                   3.000000      1\n",
       "Bloomingville        0.000000      1\n",
       "IA                   0.000000      1"
      ]
     },
     "execution_count": 106,
     "metadata": {},
     "output_type": "execute_result"
    }
   ],
   "source": [
    "data.groupby('province')['rating'].agg(['mean', 'count']).sort_values('count', ascending = False)"
   ]
  },
  {
   "cell_type": "markdown",
   "id": "a74e777a",
   "metadata": {},
   "source": [
    "Отели, больше чем с 10 отзывами будет оптимальным решением"
   ]
  },
  {
   "cell_type": "code",
   "execution_count": 30,
   "id": "a24fe84d",
   "metadata": {
    "scrolled": true
   },
   "outputs": [
    {
     "data": {
      "text/html": [
       "<div>\n",
       "<style scoped>\n",
       "    .dataframe tbody tr th:only-of-type {\n",
       "        vertical-align: middle;\n",
       "    }\n",
       "\n",
       "    .dataframe tbody tr th {\n",
       "        vertical-align: top;\n",
       "    }\n",
       "\n",
       "    .dataframe thead th {\n",
       "        text-align: right;\n",
       "    }\n",
       "</style>\n",
       "<table border=\"1\" class=\"dataframe\">\n",
       "  <thead>\n",
       "    <tr style=\"text-align: right;\">\n",
       "      <th></th>\n",
       "      <th>mean</th>\n",
       "      <th>count</th>\n",
       "    </tr>\n",
       "    <tr>\n",
       "      <th>province</th>\n",
       "      <th></th>\n",
       "      <th></th>\n",
       "    </tr>\n",
       "  </thead>\n",
       "  <tbody>\n",
       "    <tr>\n",
       "      <th>ME</th>\n",
       "      <td>3.676205</td>\n",
       "      <td>332</td>\n",
       "    </tr>\n",
       "    <tr>\n",
       "      <th>CA</th>\n",
       "      <td>4.028037</td>\n",
       "      <td>107</td>\n",
       "    </tr>\n",
       "    <tr>\n",
       "      <th>Bunker Hill Village</th>\n",
       "      <td>4.640625</td>\n",
       "      <td>64</td>\n",
       "    </tr>\n",
       "    <tr>\n",
       "      <th>Choconut Center</th>\n",
       "      <td>4.111111</td>\n",
       "      <td>63</td>\n",
       "    </tr>\n",
       "    <tr>\n",
       "      <th>GA</th>\n",
       "      <td>4.052632</td>\n",
       "      <td>57</td>\n",
       "    </tr>\n",
       "    <tr>\n",
       "      <th>PA</th>\n",
       "      <td>4.039216</td>\n",
       "      <td>51</td>\n",
       "    </tr>\n",
       "    <tr>\n",
       "      <th>AL</th>\n",
       "      <td>4.540541</td>\n",
       "      <td>37</td>\n",
       "    </tr>\n",
       "    <tr>\n",
       "      <th>OK</th>\n",
       "      <td>2.967742</td>\n",
       "      <td>31</td>\n",
       "    </tr>\n",
       "    <tr>\n",
       "      <th>Hono</th>\n",
       "      <td>3.095238</td>\n",
       "      <td>21</td>\n",
       "    </tr>\n",
       "    <tr>\n",
       "      <th>TX</th>\n",
       "      <td>3.294118</td>\n",
       "      <td>17</td>\n",
       "    </tr>\n",
       "    <tr>\n",
       "      <th>Lake Colby</th>\n",
       "      <td>4.750000</td>\n",
       "      <td>12</td>\n",
       "    </tr>\n",
       "  </tbody>\n",
       "</table>\n",
       "</div>"
      ],
      "text/plain": [
       "                         mean  count\n",
       "province                            \n",
       "ME                   3.676205    332\n",
       "CA                   4.028037    107\n",
       "Bunker Hill Village  4.640625     64\n",
       "Choconut Center      4.111111     63\n",
       "GA                   4.052632     57\n",
       "PA                   4.039216     51\n",
       "AL                   4.540541     37\n",
       "OK                   2.967742     31\n",
       "Hono                 3.095238     21\n",
       "TX                   3.294118     17\n",
       "Lake Colby           4.750000     12"
      ]
     },
     "execution_count": 30,
     "metadata": {},
     "output_type": "execute_result"
    }
   ],
   "source": [
    "data_for_bar = data.groupby('province')['rating'].agg(['mean', 'count']).sort_values('count', ascending = False)\n",
    "data_for_bar = data_for_bar[data_for_bar['count']>10]\n",
    "data_for_bar"
   ]
  },
  {
   "cell_type": "code",
   "execution_count": 111,
   "id": "98f79bae",
   "metadata": {},
   "outputs": [
    {
     "data": {
      "text/plain": [
       "Index(['mean', 'count'], dtype='object')"
      ]
     },
     "execution_count": 111,
     "metadata": {},
     "output_type": "execute_result"
    }
   ],
   "source": [
    "data_for_bar.columns"
   ]
  },
  {
   "cell_type": "code",
   "execution_count": 31,
   "id": "ab0af5e5",
   "metadata": {},
   "outputs": [
    {
     "data": {
      "image/png": "[encoded data removed]",
      "text/plain": [
       "<Figure size 1152x648 with 1 Axes>"
      ]
     },
     "metadata": {},
     "output_type": "display_data"
    }
   ],
   "source": [
    "sns.barplot(x=data_for_bar.index, y=\"count\", data=data_for_bar, palette=\"Blues\").set_title(\"rating by states barplot\");\n",
    "rcParams['figure.figsize'] = 16,9"
   ]
  },
  {
   "cell_type": "code",
   "execution_count": 32,
   "id": "f05efc57",
   "metadata": {},
   "outputs": [
    {
     "data": {
      "text/plain": [
       "-0.06260399097999686"
      ]
     },
     "execution_count": 32,
     "metadata": {},
     "output_type": "execute_result"
    }
   ],
   "source": [
    "data_for_bar['population'] = [1328188, 39576757, 3948, 4665, \n",
    "                              10520000, 12790000, 4893000, 3949000, \n",
    "                              390738, 28640000, float(\"NaN\")]\n",
    "data_for_bar[['mean', 'population']].corr().loc['population', 'mean']"
   ]
  },
  {
   "cell_type": "markdown",
   "id": "783d6548",
   "metadata": {},
   "source": [
    "Можно сказать, что средняя оценка отеля не зависит напрямую от населенности штата или зависимость нелинейная. но у нас всего 11 наблюдений, нельзя сказать наверняка\n",
    "информации про бюджет штатов слишком мало, чтобы делать выводы."
   ]
  },
  {
   "cell_type": "markdown",
   "id": "c95b7c81",
   "metadata": {},
   "source": [
    "# Mодель"
   ]
  },
  {
   "cell_type": "markdown",
   "id": "a1034cdd",
   "metadata": {},
   "source": [
    "В первую очередь выберем целевой признак. скорее всего, это должна была быть reviews.doRecommend. но к сожалению, у нас нет возможности использовать этот признак. но попробуем восстановить. Возьмем за основу подход Яндекса(обожаю это компанию без иронии). В своем сервисе такси у них такая система: либо 5 либо поездка не понравилась. Но адаптируем под наш случай: либо 4 или 5 либо не реомендую. давайте пробразуем рейтинг в эту систему."
   ]
  },
  {
   "cell_type": "code",
   "execution_count": 33,
   "id": "269987d7",
   "metadata": {
    "scrolled": true
   },
   "outputs": [
    {
     "data": {
      "text/html": [
       "<div>\n",
       "<style scoped>\n",
       "    .dataframe tbody tr th:only-of-type {\n",
       "        vertical-align: middle;\n",
       "    }\n",
       "\n",
       "    .dataframe tbody tr th {\n",
       "        vertical-align: top;\n",
       "    }\n",
       "\n",
       "    .dataframe thead th {\n",
       "        text-align: right;\n",
       "    }\n",
       "</style>\n",
       "<table border=\"1\" class=\"dataframe\">\n",
       "  <thead>\n",
       "    <tr style=\"text-align: right;\">\n",
       "      <th></th>\n",
       "      <th>address</th>\n",
       "      <th>categories</th>\n",
       "      <th>city</th>\n",
       "      <th>country</th>\n",
       "      <th>latitude</th>\n",
       "      <th>longitude</th>\n",
       "      <th>name</th>\n",
       "      <th>postalcode</th>\n",
       "      <th>province</th>\n",
       "      <th>date</th>\n",
       "      <th>dateadded</th>\n",
       "      <th>rating</th>\n",
       "      <th>text</th>\n",
       "      <th>title</th>\n",
       "      <th>usercity</th>\n",
       "      <th>username</th>\n",
       "      <th>userprovince</th>\n",
       "      <th>doesrecomend</th>\n",
       "    </tr>\n",
       "  </thead>\n",
       "  <tbody>\n",
       "    <tr>\n",
       "      <th>0</th>\n",
       "      <td>Riviera San Nicol 11/a</td>\n",
       "      <td>Hotels</td>\n",
       "      <td>Mableton</td>\n",
       "      <td>US</td>\n",
       "      <td>45.421611</td>\n",
       "      <td>12.376187</td>\n",
       "      <td>Hotel Russo Palace</td>\n",
       "      <td>30126</td>\n",
       "      <td>GA</td>\n",
       "      <td>2013-09-22</td>\n",
       "      <td>2016-10-24 00:00:25</td>\n",
       "      <td>4.0</td>\n",
       "      <td>Pleasant min walk along the sea front to the W...</td>\n",
       "      <td>Good location away from the crouds</td>\n",
       "      <td>NaN</td>\n",
       "      <td>Russ (kent)</td>\n",
       "      <td>NaN</td>\n",
       "      <td>1</td>\n",
       "    </tr>\n",
       "    <tr>\n",
       "      <th>1</th>\n",
       "      <td>Riviera San Nicol 11/a</td>\n",
       "      <td>Hotels</td>\n",
       "      <td>Mableton</td>\n",
       "      <td>US</td>\n",
       "      <td>45.421611</td>\n",
       "      <td>12.376187</td>\n",
       "      <td>Hotel Russo Palace</td>\n",
       "      <td>30126</td>\n",
       "      <td>GA</td>\n",
       "      <td>2015-04-03</td>\n",
       "      <td>2016-10-24 00:00:25</td>\n",
       "      <td>5.0</td>\n",
       "      <td>Really lovely hotel Stayed on the very top flo...</td>\n",
       "      <td>Great hotel with Jacuzzi bath</td>\n",
       "      <td>NaN</td>\n",
       "      <td>A Traveler</td>\n",
       "      <td>NaN</td>\n",
       "      <td>1</td>\n",
       "    </tr>\n",
       "    <tr>\n",
       "      <th>2</th>\n",
       "      <td>Riviera San Nicol 11/a</td>\n",
       "      <td>Hotels</td>\n",
       "      <td>Mableton</td>\n",
       "      <td>US</td>\n",
       "      <td>45.421611</td>\n",
       "      <td>12.376187</td>\n",
       "      <td>Hotel Russo Palace</td>\n",
       "      <td>30126</td>\n",
       "      <td>GA</td>\n",
       "      <td>2014-05-13</td>\n",
       "      <td>2016-10-24 00:00:25</td>\n",
       "      <td>5.0</td>\n",
       "      <td>Ett mycket bra hotell Det som drog ner betyget...</td>\n",
       "      <td>Lugnt l ge</td>\n",
       "      <td>NaN</td>\n",
       "      <td>Maud</td>\n",
       "      <td>NaN</td>\n",
       "      <td>1</td>\n",
       "    </tr>\n",
       "    <tr>\n",
       "      <th>3</th>\n",
       "      <td>Riviera San Nicol 11/a</td>\n",
       "      <td>Hotels</td>\n",
       "      <td>Mableton</td>\n",
       "      <td>US</td>\n",
       "      <td>45.421611</td>\n",
       "      <td>12.376187</td>\n",
       "      <td>Hotel Russo Palace</td>\n",
       "      <td>30126</td>\n",
       "      <td>GA</td>\n",
       "      <td>2013-10-27</td>\n",
       "      <td>2016-10-24 00:00:25</td>\n",
       "      <td>5.0</td>\n",
       "      <td>We stayed here for four nights in October The ...</td>\n",
       "      <td>Good location on the Lido</td>\n",
       "      <td>NaN</td>\n",
       "      <td>Julie</td>\n",
       "      <td>NaN</td>\n",
       "      <td>1</td>\n",
       "    </tr>\n",
       "    <tr>\n",
       "      <th>4</th>\n",
       "      <td>Riviera San Nicol 11/a</td>\n",
       "      <td>Hotels</td>\n",
       "      <td>Mableton</td>\n",
       "      <td>US</td>\n",
       "      <td>45.421611</td>\n",
       "      <td>12.376187</td>\n",
       "      <td>Hotel Russo Palace</td>\n",
       "      <td>30126</td>\n",
       "      <td>GA</td>\n",
       "      <td>2015-03-05</td>\n",
       "      <td>2016-10-24 00:00:25</td>\n",
       "      <td>5.0</td>\n",
       "      <td>We stayed here for four nights in October The ...</td>\n",
       "      <td></td>\n",
       "      <td>NaN</td>\n",
       "      <td>sungchul</td>\n",
       "      <td>NaN</td>\n",
       "      <td>1</td>\n",
       "    </tr>\n",
       "  </tbody>\n",
       "</table>\n",
       "</div>"
      ],
      "text/plain": [
       "                  address categories      city country   latitude  longitude  \\\n",
       "0  Riviera San Nicol 11/a     Hotels  Mableton      US  45.421611  12.376187   \n",
       "1  Riviera San Nicol 11/a     Hotels  Mableton      US  45.421611  12.376187   \n",
       "2  Riviera San Nicol 11/a     Hotels  Mableton      US  45.421611  12.376187   \n",
       "3  Riviera San Nicol 11/a     Hotels  Mableton      US  45.421611  12.376187   \n",
       "4  Riviera San Nicol 11/a     Hotels  Mableton      US  45.421611  12.376187   \n",
       "\n",
       "                 name  postalcode province       date           dateadded  \\\n",
       "0  Hotel Russo Palace       30126       GA 2013-09-22 2016-10-24 00:00:25   \n",
       "1  Hotel Russo Palace       30126       GA 2015-04-03 2016-10-24 00:00:25   \n",
       "2  Hotel Russo Palace       30126       GA 2014-05-13 2016-10-24 00:00:25   \n",
       "3  Hotel Russo Palace       30126       GA 2013-10-27 2016-10-24 00:00:25   \n",
       "4  Hotel Russo Palace       30126       GA 2015-03-05 2016-10-24 00:00:25   \n",
       "\n",
       "   rating                                               text  \\\n",
       "0     4.0  Pleasant min walk along the sea front to the W...   \n",
       "1     5.0  Really lovely hotel Stayed on the very top flo...   \n",
       "2     5.0  Ett mycket bra hotell Det som drog ner betyget...   \n",
       "3     5.0  We stayed here for four nights in October The ...   \n",
       "4     5.0  We stayed here for four nights in October The ...   \n",
       "\n",
       "                                title usercity     username userprovince  \\\n",
       "0  Good location away from the crouds      NaN  Russ (kent)          NaN   \n",
       "1       Great hotel with Jacuzzi bath      NaN   A Traveler          NaN   \n",
       "2                          Lugnt l ge      NaN         Maud          NaN   \n",
       "3           Good location on the Lido      NaN        Julie          NaN   \n",
       "4                                          NaN     sungchul          NaN   \n",
       "\n",
       "   doesrecomend  \n",
       "0             1  \n",
       "1             1  \n",
       "2             1  \n",
       "3             1  \n",
       "4             1  "
      ]
     },
     "execution_count": 33,
     "metadata": {},
     "output_type": "execute_result"
    }
   ],
   "source": [
    "def rating_to_rec(rate):\n",
    "    if rate > 3:\n",
    "        return 1\n",
    "    else:\n",
    "        return 0\n",
    "data['doesrecomend'] = data['rating'].apply(rating_to_rec)\n",
    "data.head()"
   ]
  },
  {
   "cell_type": "markdown",
   "id": "3bb44bdf",
   "metadata": {},
   "source": [
    "Давайте теперь определимся с целевой метрикой, но перед этим посмотрим на баланс классов"
   ]
  },
  {
   "cell_type": "code",
   "execution_count": 14,
   "id": "8f75d89d",
   "metadata": {},
   "outputs": [
    {
     "data": {
      "text/plain": [
       "1    565\n",
       "0    234\n",
       "Name: doesrecomend, dtype: int64"
      ]
     },
     "execution_count": 14,
     "metadata": {},
     "output_type": "execute_result"
    }
   ],
   "source": [
    "data['doesrecomend'].value_counts()"
   ]
  },
  {
   "cell_type": "markdown",
   "id": "a9ee3dbf",
   "metadata": {},
   "source": [
    "Есть явный дисбаланс классов. чтобы отследить способность нашей модели выявлять меньший класс, возьмем за метрику f1-меру. Она учитывает мисспопадания обоих классов. из-за того, что у нас <strong>всего</strong> 800 наблюдений, вряд ли получется хорошая модель.\n",
    "\n",
    "так как наш основной признак-отзывы, нам не обойтись без приемов NLP. а именно есть два варианта:\n",
    "<ol>\n",
    "  <li><strong>TF-IDF</strong></li>\n",
    "  <li>Использование предобученного <strong>BERT</strong></li>\n",
    "</ol>\n",
    "BERT здесь лишний, потому-что надстройка над бертом не очень справится с таким малым количеством данных"
   ]
  },
  {
   "cell_type": "markdown",
   "id": "698d6f98",
   "metadata": {},
   "source": [
    "Приведем все слова к леммам, чтобы не переобучать модель\n",
    "\n",
    "мы можем либо обьденить два столбца в один корпус либо обработать два столбца отдельно, и получившиеся две матрицы признаков пропустить через две разные модели, обьеденить их в ансамбль и получить результат. но зачем? у текста и заголовка схожий смысл. давайте поступим первым способом"
   ]
  },
  {
   "cell_type": "code",
   "execution_count": 34,
   "id": "8807afc9",
   "metadata": {},
   "outputs": [],
   "source": [
    "lemmatizer = WordNetLemmatizer()"
   ]
  },
  {
   "cell_type": "code",
   "execution_count": 92,
   "id": "03efc631",
   "metadata": {},
   "outputs": [
    {
     "data": {
      "text/plain": [
       "TfidfVectorizer(stop_words={'a', 'about', 'above', 'after', 'again', 'against',\n",
       "                            'ain', 'all', 'am', 'an', 'and', 'any', 'are',\n",
       "                            'aren', \"aren't\", 'as', 'at', 'be', 'because',\n",
       "                            'been', 'before', 'being', 'below', 'between',\n",
       "                            'both', 'but', 'by', 'can', 'couldn', \"couldn't\", ...})"
      ]
     },
     "execution_count": 92,
     "metadata": {},
     "output_type": "execute_result"
    }
   ],
   "source": [
    "corpus = (data['title']+'. '+data['text']).values\n",
    "tf_idf = TfidfVectorizer(stop_words = stopwords)\n",
    "tf_idf.fit(corpus)"
   ]
  },
  {
   "cell_type": "markdown",
   "id": "c28b73e5",
   "metadata": {},
   "source": [
    "как мы выяснили, локация несильно влияет на оценку, так что строго говоря, только текст влияет на оценку"
   ]
  },
  {
   "cell_type": "code",
   "execution_count": 93,
   "id": "b52453f7",
   "metadata": {},
   "outputs": [
    {
     "data": {
      "text/plain": [
       "<800x4674 sparse matrix of type '<class 'numpy.float64'>'\n",
       "\twith 20450 stored elements in Compressed Sparse Row format>"
      ]
     },
     "execution_count": 93,
     "metadata": {},
     "output_type": "execute_result"
    }
   ],
   "source": [
    "tf_idf.transform(corpus)"
   ]
  },
  {
   "cell_type": "code",
   "execution_count": 94,
   "id": "3d06c719",
   "metadata": {},
   "outputs": [],
   "source": [
    "features_tf_idf = tf_idf.transform(corpus)\n",
    "target_tf_idf = data['doesrecomend']"
   ]
  },
  {
   "cell_type": "code",
   "execution_count": 98,
   "id": "380737a2",
   "metadata": {},
   "outputs": [],
   "source": [
    "features_train, features_valid, target_train, target_valid = train_test_split(features_tf_idf, \n",
    "                                                                              target_tf_idf, \n",
    "                                                                              test_size=0.25, \n",
    "                                                                              random_state=12345)"
   ]
  },
  {
   "cell_type": "markdown",
   "id": "0a60e284",
   "metadata": {},
   "source": [
    "### LogisticRegression"
   ]
  },
  {
   "cell_type": "markdown",
   "id": "604ac811",
   "metadata": {},
   "source": [
    "Масштабируем данные для кросс валидации"
   ]
  },
  {
   "cell_type": "code",
   "execution_count": 108,
   "id": "fab501bb",
   "metadata": {},
   "outputs": [],
   "source": [
    "scaler_log = StandardScaler(with_mean=False)\n",
    "scaler_log.fit(features_tf_idf)\n",
    "features_train_log_val = scaler_log.transform(features_tf_idf)"
   ]
  },
  {
   "cell_type": "code",
   "execution_count": 112,
   "id": "d06b46d2",
   "metadata": {},
   "outputs": [],
   "source": [
    "model_log = LogisticRegression(max_iter = 1000)#иначе ячейка ниже не запускалась"
   ]
  },
  {
   "cell_type": "code",
   "execution_count": 130,
   "id": "4058464e",
   "metadata": {},
   "outputs": [
    {
     "data": {
      "text/plain": [
       "0.6651996263819749"
      ]
     },
     "execution_count": 130,
     "metadata": {},
     "output_type": "execute_result"
    }
   ],
   "source": [
    "scores_log = cross_val_score(model_log, features_train_log_val, target_tf_idf, cv=8, scoring='f1_macro')\n",
    "scores_log.mean()"
   ]
  },
  {
   "cell_type": "markdown",
   "id": "5b15934b",
   "metadata": {},
   "source": [
    "Достойный результат!"
   ]
  },
  {
   "cell_type": "code",
   "execution_count": 145,
   "id": "bb154dce",
   "metadata": {},
   "outputs": [
    {
     "data": {
      "text/plain": [
       "LogisticRegression(max_iter=1000)"
      ]
     },
     "execution_count": 145,
     "metadata": {},
     "output_type": "execute_result"
    }
   ],
   "source": [
    "model_log.fit(features_train, target_train)"
   ]
  },
  {
   "cell_type": "markdown",
   "id": "807412db",
   "metadata": {},
   "source": [
    "### DecisionTreeClassifier"
   ]
  },
  {
   "cell_type": "markdown",
   "id": "b48cd4e5",
   "metadata": {},
   "source": [
    "в данных пропусков нет, ничего делать не надо, для алгоритмов, основанных на решающих деревьях данные масштабировать не надо"
   ]
  },
  {
   "cell_type": "code",
   "execution_count": 125,
   "id": "d8550dc8",
   "metadata": {},
   "outputs": [
    {
     "data": {
      "text/plain": [
       "36"
      ]
     },
     "execution_count": 125,
     "metadata": {},
     "output_type": "execute_result"
    }
   ],
   "source": [
    "model_tree = DecisionTreeClassifier()\n",
    "model_tree.fit(features_train, target_train)\n",
    "model_tree.tree_.max_depth # смотрим максимальную глублину дерева"
   ]
  },
  {
   "cell_type": "code",
   "execution_count": 127,
   "id": "c858d3ef",
   "metadata": {},
   "outputs": [],
   "source": [
    "param_dist = {\n",
    "    'criterion' : ['gini', 'entropy'],\n",
    "    'max_depth' : np.arange(1,37,1),\n",
    "}\n",
    "grid = GridSearchCV(model_tree, param_grid = param_dist, cv = 8, n_jobs = -1, scoring='f1_micro')"
   ]
  },
  {
   "cell_type": "code",
   "execution_count": 128,
   "id": "8842277c",
   "metadata": {},
   "outputs": [
    {
     "data": {
      "text/plain": [
       "GridSearchCV(cv=8, estimator=DecisionTreeClassifier(), n_jobs=-1,\n",
       "             param_grid={'criterion': ['gini', 'entropy'],\n",
       "                         'max_depth': array([ 1,  2,  3,  4,  5,  6,  7,  8,  9, 10, 11, 12, 13, 14, 15, 16, 17,\n",
       "       18, 19, 20, 21, 22, 23, 24, 25, 26, 27, 28, 29, 30, 31, 32, 33, 34,\n",
       "       35, 36])},\n",
       "             scoring='f1_micro')"
      ]
     },
     "execution_count": 128,
     "metadata": {},
     "output_type": "execute_result"
    }
   ],
   "source": [
    "grid.fit(features_train, target_train)"
   ]
  },
  {
   "cell_type": "code",
   "execution_count": 129,
   "id": "8df98d2a",
   "metadata": {},
   "outputs": [
    {
     "data": {
      "text/plain": [
       "DecisionTreeClassifier(max_depth=32)"
      ]
     },
     "execution_count": 129,
     "metadata": {},
     "output_type": "execute_result"
    }
   ],
   "source": [
    "grid.best_estimator_"
   ]
  },
  {
   "cell_type": "code",
   "execution_count": 141,
   "id": "53be2576",
   "metadata": {},
   "outputs": [
    {
     "data": {
      "text/plain": [
       "0.5923867306826923"
      ]
     },
     "execution_count": 141,
     "metadata": {},
     "output_type": "execute_result"
    }
   ],
   "source": [
    "model_tree = DecisionTreeClassifier(max_depth=32)\n",
    "scores_tree = cross_val_score(model_tree, features_train_log_val, target_tf_idf, cv=8, scoring='f1_macro')\n",
    "scores_tree.mean()"
   ]
  },
  {
   "cell_type": "markdown",
   "id": "fb2f8bda",
   "metadata": {},
   "source": [
    "результат ниже, чем у логической регрессии, что странно, ведь обычно бывает наоборот. Видимо из-за векторизации текста данных стало слишком много и модель переобучилась. Можно посмотреть на важность признаков и отбросить самые неважные, но зачем, если логическая регрессия отлично справяется?"
   ]
  },
  {
   "cell_type": "markdown",
   "id": "4ee02044",
   "metadata": {},
   "source": [
    "### CatBoostClassifier"
   ]
  },
  {
   "cell_type": "code",
   "execution_count": 134,
   "id": "81a31697",
   "metadata": {},
   "outputs": [
    {
     "data": {
      "application/vnd.jupyter.widget-view+json": {
       "model_id": "62f32df8911d404298094108b3921ec3",
       "version_major": 2,
       "version_minor": 0
      },
      "text/plain": [
       "MetricVisualizer(layout=Layout(align_self='stretch', height='500px'))"
      ]
     },
     "metadata": {},
     "output_type": "display_data"
    },
    {
     "name": "stdout",
     "output_type": "stream",
     "text": [
      "Learning rate set to 0.076052\n",
      "0:\tlearn: 0.8287402\ttest: 0.8060606\tbest: 0.8060606 (0)\ttotal: 111ms\tremaining: 11s\n",
      "1:\tlearn: 0.8305583\ttest: 0.8259587\tbest: 0.8259587 (1)\ttotal: 142ms\tremaining: 6.98s\n",
      "2:\tlearn: 0.8292683\ttest: 0.8269795\tbest: 0.8269795 (2)\ttotal: 172ms\tremaining: 5.57s\n",
      "3:\tlearn: 0.8308895\ttest: 0.8269795\tbest: 0.8269795 (2)\ttotal: 202ms\tremaining: 4.85s\n",
      "4:\tlearn: 0.8349705\ttest: 0.8294118\tbest: 0.8294118 (4)\ttotal: 234ms\tremaining: 4.44s\n",
      "5:\tlearn: 0.8357915\ttest: 0.8224852\tbest: 0.8294118 (4)\ttotal: 259ms\tremaining: 4.06s\n",
      "6:\tlearn: 0.8349705\ttest: 0.8294118\tbest: 0.8294118 (4)\ttotal: 285ms\tremaining: 3.79s\n",
      "7:\tlearn: 0.8357915\ttest: 0.8318584\tbest: 0.8318584 (7)\ttotal: 309ms\tremaining: 3.55s\n",
      "8:\tlearn: 0.8333333\ttest: 0.8318584\tbest: 0.8318584 (7)\ttotal: 333ms\tremaining: 3.37s\n",
      "9:\tlearn: 0.8341511\ttest: 0.8318584\tbest: 0.8318584 (7)\ttotal: 361ms\tremaining: 3.24s\n",
      "10:\tlearn: 0.8382643\ttest: 0.8249258\tbest: 0.8318584 (7)\ttotal: 385ms\tremaining: 3.11s\n",
      "11:\tlearn: 0.8382643\ttest: 0.8249258\tbest: 0.8318584 (7)\ttotal: 431ms\tremaining: 3.16s\n",
      "12:\tlearn: 0.8366142\ttest: 0.8249258\tbest: 0.8318584 (7)\ttotal: 455ms\tremaining: 3.04s\n",
      "13:\tlearn: 0.8407517\ttest: 0.8318584\tbest: 0.8318584 (7)\ttotal: 481ms\tremaining: 2.95s\n",
      "14:\tlearn: 0.8440914\ttest: 0.8343195\tbest: 0.8343195 (14)\ttotal: 514ms\tremaining: 2.91s\n",
      "15:\tlearn: 0.8449304\ttest: 0.8392857\tbest: 0.8392857 (15)\ttotal: 544ms\tremaining: 2.86s\n",
      "16:\tlearn: 0.8449304\ttest: 0.8343195\tbest: 0.8392857 (15)\ttotal: 575ms\tremaining: 2.81s\n",
      "17:\tlearn: 0.8491508\ttest: 0.8443114\tbest: 0.8443114 (17)\ttotal: 606ms\tremaining: 2.76s\n",
      "18:\tlearn: 0.8500000\ttest: 0.8417910\tbest: 0.8443114 (17)\ttotal: 632ms\tremaining: 2.69s\n",
      "19:\tlearn: 0.8491508\ttest: 0.8417910\tbest: 0.8443114 (17)\ttotal: 661ms\tremaining: 2.64s\n",
      "20:\tlearn: 0.8491508\ttest: 0.8443114\tbest: 0.8443114 (17)\ttotal: 690ms\tremaining: 2.59s\n",
      "21:\tlearn: 0.8517034\ttest: 0.8443114\tbest: 0.8443114 (17)\ttotal: 721ms\tremaining: 2.56s\n",
      "22:\tlearn: 0.8500000\ttest: 0.8417910\tbest: 0.8443114 (17)\ttotal: 746ms\tremaining: 2.5s\n",
      "23:\tlearn: 0.8525577\ttest: 0.8443114\tbest: 0.8443114 (17)\ttotal: 773ms\tremaining: 2.45s\n",
      "24:\tlearn: 0.8551308\ttest: 0.8443114\tbest: 0.8443114 (17)\ttotal: 799ms\tremaining: 2.4s\n",
      "25:\tlearn: 0.8611955\ttest: 0.8468468\tbest: 0.8468468 (25)\ttotal: 854ms\tremaining: 2.43s\n",
      "26:\tlearn: 0.8638211\ttest: 0.8443114\tbest: 0.8468468 (25)\ttotal: 935ms\tremaining: 2.53s\n",
      "27:\tlearn: 0.8646999\ttest: 0.8493976\tbest: 0.8493976 (27)\ttotal: 991ms\tremaining: 2.55s\n",
      "28:\tlearn: 0.8673469\ttest: 0.8519637\tbest: 0.8519637 (28)\ttotal: 1.05s\tremaining: 2.58s\n",
      "29:\tlearn: 0.8691207\ttest: 0.8493976\tbest: 0.8519637 (28)\ttotal: 1.19s\tremaining: 2.77s\n",
      "30:\tlearn: 0.8726899\ttest: 0.8493976\tbest: 0.8519637 (28)\ttotal: 1.24s\tremaining: 2.75s\n",
      "31:\tlearn: 0.8726899\ttest: 0.8493976\tbest: 0.8519637 (28)\ttotal: 1.28s\tremaining: 2.73s\n",
      "32:\tlearn: 0.8726899\ttest: 0.8424242\tbest: 0.8519637 (28)\ttotal: 1.32s\tremaining: 2.69s\n",
      "33:\tlearn: 0.8726899\ttest: 0.8424242\tbest: 0.8519637 (28)\ttotal: 1.36s\tremaining: 2.64s\n",
      "34:\tlearn: 0.8726899\ttest: 0.8424242\tbest: 0.8519637 (28)\ttotal: 1.4s\tremaining: 2.59s\n",
      "35:\tlearn: 0.8735868\ttest: 0.8424242\tbest: 0.8519637 (28)\ttotal: 1.44s\tremaining: 2.56s\n",
      "36:\tlearn: 0.8744856\ttest: 0.8449848\tbest: 0.8519637 (28)\ttotal: 1.49s\tremaining: 2.54s\n",
      "37:\tlearn: 0.8762887\ttest: 0.8424242\tbest: 0.8519637 (28)\ttotal: 1.51s\tremaining: 2.47s\n",
      "38:\tlearn: 0.8762887\ttest: 0.8449848\tbest: 0.8519637 (28)\ttotal: 1.54s\tremaining: 2.4s\n",
      "39:\tlearn: 0.8762887\ttest: 0.8424242\tbest: 0.8519637 (28)\ttotal: 1.56s\tremaining: 2.34s\n",
      "40:\tlearn: 0.8771930\ttest: 0.8519637\tbest: 0.8519637 (28)\ttotal: 1.58s\tremaining: 2.28s\n",
      "41:\tlearn: 0.8790072\ttest: 0.8519637\tbest: 0.8519637 (28)\ttotal: 1.61s\tremaining: 2.23s\n",
      "42:\tlearn: 0.8808290\ttest: 0.8545455\tbest: 0.8545455 (42)\ttotal: 1.64s\tremaining: 2.17s\n",
      "43:\tlearn: 0.8826584\ttest: 0.8545455\tbest: 0.8545455 (42)\ttotal: 1.66s\tremaining: 2.11s\n",
      "44:\tlearn: 0.8835759\ttest: 0.8545455\tbest: 0.8545455 (42)\ttotal: 1.69s\tremaining: 2.06s\n",
      "45:\tlearn: 0.8844953\ttest: 0.8545455\tbest: 0.8545455 (42)\ttotal: 1.71s\tremaining: 2.01s\n",
      "46:\tlearn: 0.8872651\ttest: 0.8519637\tbest: 0.8545455 (42)\ttotal: 1.73s\tremaining: 1.96s\n",
      "47:\tlearn: 0.8881923\ttest: 0.8519637\tbest: 0.8545455 (42)\ttotal: 1.76s\tremaining: 1.91s\n",
      "48:\tlearn: 0.8881923\ttest: 0.8519637\tbest: 0.8545455 (42)\ttotal: 1.78s\tremaining: 1.86s\n",
      "49:\tlearn: 0.8881923\ttest: 0.8484848\tbest: 0.8545455 (42)\ttotal: 1.81s\tremaining: 1.81s\n",
      "50:\tlearn: 0.8881923\ttest: 0.8475610\tbest: 0.8545455 (42)\ttotal: 1.83s\tremaining: 1.76s\n",
      "51:\tlearn: 0.8891213\ttest: 0.8501529\tbest: 0.8545455 (42)\ttotal: 1.86s\tremaining: 1.72s\n",
      "52:\tlearn: 0.8900524\ttest: 0.8527607\tbest: 0.8545455 (42)\ttotal: 1.88s\tremaining: 1.67s\n",
      "53:\tlearn: 0.8919203\ttest: 0.8588957\tbest: 0.8588957 (53)\ttotal: 1.91s\tremaining: 1.63s\n",
      "54:\tlearn: 0.8909853\ttest: 0.8562691\tbest: 0.8588957 (53)\ttotal: 1.94s\tremaining: 1.59s\n",
      "55:\tlearn: 0.8928571\ttest: 0.8588957\tbest: 0.8588957 (53)\ttotal: 1.97s\tremaining: 1.54s\n",
      "56:\tlearn: 0.8928571\ttest: 0.8588957\tbest: 0.8588957 (53)\ttotal: 1.99s\tremaining: 1.5s\n",
      "57:\tlearn: 0.8937960\ttest: 0.8562691\tbest: 0.8588957 (53)\ttotal: 2.02s\tremaining: 1.46s\n",
      "58:\tlearn: 0.8947368\ttest: 0.8588957\tbest: 0.8588957 (53)\ttotal: 2.04s\tremaining: 1.42s\n",
      "59:\tlearn: 0.8975713\ttest: 0.8527607\tbest: 0.8588957 (53)\ttotal: 2.08s\tremaining: 1.38s\n",
      "60:\tlearn: 0.8985201\ttest: 0.8527607\tbest: 0.8588957 (53)\ttotal: 2.1s\tremaining: 1.34s\n",
      "61:\tlearn: 0.9032944\ttest: 0.8492308\tbest: 0.8588957 (53)\ttotal: 2.13s\tremaining: 1.31s\n",
      "62:\tlearn: 0.9042553\ttest: 0.8518519\tbest: 0.8588957 (53)\ttotal: 2.16s\tremaining: 1.27s\n",
      "63:\tlearn: 0.9061834\ttest: 0.8544892\tbest: 0.8588957 (53)\ttotal: 2.18s\tremaining: 1.23s\n",
      "64:\tlearn: 0.9081197\ttest: 0.8518519\tbest: 0.8588957 (53)\ttotal: 2.21s\tremaining: 1.19s\n",
      "65:\tlearn: 0.9081197\ttest: 0.8518519\tbest: 0.8588957 (53)\ttotal: 2.25s\tremaining: 1.16s\n",
      "66:\tlearn: 0.9071505\ttest: 0.8518519\tbest: 0.8588957 (53)\ttotal: 2.28s\tremaining: 1.12s\n",
      "67:\tlearn: 0.9081197\ttest: 0.8492308\tbest: 0.8588957 (53)\ttotal: 2.31s\tremaining: 1.09s\n",
      "68:\tlearn: 0.9110397\ttest: 0.8518519\tbest: 0.8588957 (53)\ttotal: 2.35s\tremaining: 1.05s\n",
      "69:\tlearn: 0.9100642\ttest: 0.8518519\tbest: 0.8588957 (53)\ttotal: 2.38s\tremaining: 1.02s\n",
      "70:\tlearn: 0.9090909\ttest: 0.8518519\tbest: 0.8588957 (53)\ttotal: 2.4s\tremaining: 982ms\n",
      "71:\tlearn: 0.9090909\ttest: 0.8518519\tbest: 0.8588957 (53)\ttotal: 2.43s\tremaining: 944ms\n",
      "72:\tlearn: 0.9081197\ttest: 0.8421053\tbest: 0.8588957 (53)\ttotal: 2.46s\tremaining: 909ms\n",
      "73:\tlearn: 0.9090909\ttest: 0.8447205\tbest: 0.8588957 (53)\ttotal: 2.48s\tremaining: 873ms\n",
      "74:\tlearn: 0.9110397\ttest: 0.8447205\tbest: 0.8588957 (53)\ttotal: 2.51s\tremaining: 838ms\n",
      "75:\tlearn: 0.9110397\ttest: 0.8473520\tbest: 0.8588957 (53)\ttotal: 2.54s\tremaining: 801ms\n",
      "76:\tlearn: 0.9120172\ttest: 0.8473520\tbest: 0.8588957 (53)\ttotal: 2.56s\tremaining: 765ms\n",
      "77:\tlearn: 0.9120172\ttest: 0.8473520\tbest: 0.8588957 (53)\ttotal: 2.58s\tremaining: 729ms\n",
      "78:\tlearn: 0.9120172\ttest: 0.8473520\tbest: 0.8588957 (53)\ttotal: 2.61s\tremaining: 694ms\n",
      "79:\tlearn: 0.9110397\ttest: 0.8473520\tbest: 0.8588957 (53)\ttotal: 2.64s\tremaining: 659ms\n",
      "80:\tlearn: 0.9110397\ttest: 0.8473520\tbest: 0.8588957 (53)\ttotal: 2.66s\tremaining: 625ms\n",
      "81:\tlearn: 0.9100642\ttest: 0.8473520\tbest: 0.8588957 (53)\ttotal: 2.69s\tremaining: 592ms\n",
      "82:\tlearn: 0.9129968\ttest: 0.8473520\tbest: 0.8588957 (53)\ttotal: 2.72s\tremaining: 558ms\n",
      "83:\tlearn: 0.9149623\ttest: 0.8500000\tbest: 0.8588957 (53)\ttotal: 2.75s\tremaining: 524ms\n",
      "84:\tlearn: 0.9149623\ttest: 0.8500000\tbest: 0.8588957 (53)\ttotal: 2.77s\tremaining: 490ms\n",
      "85:\tlearn: 0.9159483\ttest: 0.8500000\tbest: 0.8588957 (53)\ttotal: 2.8s\tremaining: 456ms\n",
      "86:\tlearn: 0.9189189\ttest: 0.8500000\tbest: 0.8588957 (53)\ttotal: 2.83s\tremaining: 422ms\n",
      "87:\tlearn: 0.9219089\ttest: 0.8500000\tbest: 0.8588957 (53)\ttotal: 2.85s\tremaining: 389ms\n",
      "88:\tlearn: 0.9229099\ttest: 0.8463950\tbest: 0.8588957 (53)\ttotal: 2.87s\tremaining: 355ms\n",
      "89:\tlearn: 0.9249184\ttest: 0.8463950\tbest: 0.8588957 (53)\ttotal: 2.9s\tremaining: 322ms\n",
      "90:\tlearn: 0.9249184\ttest: 0.8463950\tbest: 0.8588957 (53)\ttotal: 2.93s\tremaining: 290ms\n",
      "91:\tlearn: 0.9239130\ttest: 0.8490566\tbest: 0.8588957 (53)\ttotal: 2.95s\tremaining: 257ms\n",
      "92:\tlearn: 0.9229099\ttest: 0.8526646\tbest: 0.8588957 (53)\ttotal: 2.98s\tremaining: 224ms\n",
      "93:\tlearn: 0.9239130\ttest: 0.8526646\tbest: 0.8588957 (53)\ttotal: 3s\tremaining: 192ms\n",
      "94:\tlearn: 0.9259259\ttest: 0.8526646\tbest: 0.8588957 (53)\ttotal: 3.03s\tremaining: 159ms\n",
      "95:\tlearn: 0.9249184\ttest: 0.8526646\tbest: 0.8588957 (53)\ttotal: 3.05s\tremaining: 127ms\n",
      "96:\tlearn: 0.9269357\ttest: 0.8526646\tbest: 0.8588957 (53)\ttotal: 3.08s\tremaining: 95.1ms\n",
      "97:\tlearn: 0.9279476\ttest: 0.8490566\tbest: 0.8588957 (53)\ttotal: 3.1s\tremaining: 63.3ms\n",
      "98:\tlearn: 0.9279476\ttest: 0.8490566\tbest: 0.8588957 (53)\ttotal: 3.13s\tremaining: 31.6ms\n"
     ]
    },
    {
     "name": "stdout",
     "output_type": "stream",
     "text": [
      "99:\tlearn: 0.9279476\ttest: 0.8490566\tbest: 0.8588957 (53)\ttotal: 3.15s\tremaining: 0us\n",
      "\n",
      "bestTest = 0.8588957055\n",
      "bestIteration = 53\n",
      "\n",
      "Shrink model to first 54 iterations.\n"
     ]
    },
    {
     "data": {
      "text/plain": [
       "<catboost.core.CatBoostClassifier at 0x21919e27010>"
      ]
     },
     "execution_count": 134,
     "metadata": {},
     "output_type": "execute_result"
    }
   ],
   "source": [
    "model_cb = CatBoostClassifier(iterations=100, \n",
    "                              random_state = 12345, \n",
    "                              eval_metric=\"F1\")\n",
    "model_cb.fit(features_train, target_train,  plot=True, \n",
    "             eval_set=(features_valid, target_valid))"
   ]
  },
  {
   "cell_type": "markdown",
   "id": "344396f4",
   "metadata": {},
   "source": [
    "f1-мера не растет после 30 иттерации, поэтому смысла увеличивать их количество нет."
   ]
  },
  {
   "cell_type": "code",
   "execution_count": 135,
   "id": "830784b7",
   "metadata": {},
   "outputs": [
    {
     "name": "stdout",
     "output_type": "stream",
     "text": [
      "Learning rate set to 0.073079\n",
      "0:\tlearn: 0.8306655\ttotal: 34.2ms\tremaining: 3.39s\n",
      "1:\tlearn: 0.8326325\ttotal: 63.4ms\tremaining: 3.1s\n",
      "2:\tlearn: 0.8319328\ttotal: 86ms\tremaining: 2.78s\n",
      "3:\tlearn: 0.8312343\ttotal: 107ms\tremaining: 2.57s\n",
      "4:\tlearn: 0.8312343\ttotal: 126ms\tremaining: 2.4s\n",
      "5:\tlearn: 0.8284519\ttotal: 147ms\tremaining: 2.31s\n",
      "6:\tlearn: 0.8298407\ttotal: 171ms\tremaining: 2.27s\n",
      "7:\tlearn: 0.8305369\ttotal: 195ms\tremaining: 2.24s\n",
      "8:\tlearn: 0.8291457\ttotal: 215ms\tremaining: 2.18s\n",
      "9:\tlearn: 0.8291457\ttotal: 240ms\tremaining: 2.16s\n",
      "10:\tlearn: 0.8326325\ttotal: 261ms\tremaining: 2.11s\n",
      "11:\tlearn: 0.8333333\ttotal: 282ms\tremaining: 2.07s\n",
      "12:\tlearn: 0.8375635\ttotal: 303ms\tremaining: 2.03s\n",
      "13:\tlearn: 0.8411215\ttotal: 324ms\tremaining: 1.99s\n",
      "14:\tlearn: 0.8396947\ttotal: 346ms\tremaining: 1.96s\n",
      "15:\tlearn: 0.8425532\ttotal: 368ms\tremaining: 1.93s\n",
      "16:\tlearn: 0.8411215\ttotal: 388ms\tremaining: 1.89s\n",
      "17:\tlearn: 0.8447099\ttotal: 412ms\tremaining: 1.88s\n",
      "18:\tlearn: 0.8461538\ttotal: 433ms\tremaining: 1.84s\n",
      "19:\tlearn: 0.8461538\ttotal: 453ms\tremaining: 1.81s\n",
      "20:\tlearn: 0.8461538\ttotal: 474ms\tremaining: 1.78s\n",
      "21:\tlearn: 0.8468777\ttotal: 495ms\tremaining: 1.75s\n",
      "22:\tlearn: 0.8490566\ttotal: 516ms\tremaining: 1.73s\n",
      "23:\tlearn: 0.8497854\ttotal: 537ms\tremaining: 1.7s\n",
      "24:\tlearn: 0.8497854\ttotal: 559ms\tremaining: 1.68s\n",
      "25:\tlearn: 0.8497854\ttotal: 582ms\tremaining: 1.66s\n",
      "26:\tlearn: 0.8519793\ttotal: 609ms\tremaining: 1.65s\n",
      "27:\tlearn: 0.8512468\ttotal: 652ms\tremaining: 1.68s\n",
      "28:\tlearn: 0.8549223\ttotal: 685ms\tremaining: 1.68s\n",
      "29:\tlearn: 0.8564014\ttotal: 721ms\tremaining: 1.68s\n",
      "30:\tlearn: 0.8564014\ttotal: 752ms\tremaining: 1.67s\n",
      "31:\tlearn: 0.8571429\ttotal: 783ms\tremaining: 1.66s\n",
      "32:\tlearn: 0.8571429\ttotal: 808ms\tremaining: 1.64s\n",
      "33:\tlearn: 0.8601216\ttotal: 834ms\tremaining: 1.62s\n",
      "34:\tlearn: 0.8616188\ttotal: 858ms\tremaining: 1.59s\n",
      "35:\tlearn: 0.8661417\ttotal: 887ms\tremaining: 1.58s\n",
      "36:\tlearn: 0.8653846\ttotal: 913ms\tremaining: 1.55s\n",
      "37:\tlearn: 0.8653846\ttotal: 952ms\tremaining: 1.55s\n",
      "38:\tlearn: 0.8669002\ttotal: 1s\tremaining: 1.57s\n",
      "39:\tlearn: 0.8669002\ttotal: 1.07s\tremaining: 1.61s\n",
      "40:\tlearn: 0.8676599\ttotal: 1.11s\tremaining: 1.6s\n",
      "41:\tlearn: 0.8676599\ttotal: 1.19s\tremaining: 1.64s\n",
      "42:\tlearn: 0.8676599\ttotal: 1.23s\tremaining: 1.63s\n",
      "43:\tlearn: 0.8676599\ttotal: 1.27s\tremaining: 1.61s\n",
      "44:\tlearn: 0.8691835\ttotal: 1.3s\tremaining: 1.59s\n",
      "45:\tlearn: 0.8730159\ttotal: 1.34s\tremaining: 1.58s\n",
      "46:\tlearn: 0.8730159\ttotal: 1.37s\tremaining: 1.55s\n",
      "47:\tlearn: 0.8751107\ttotal: 1.4s\tremaining: 1.51s\n",
      "48:\tlearn: 0.8766637\ttotal: 1.42s\tremaining: 1.48s\n",
      "49:\tlearn: 0.8756661\ttotal: 1.44s\tremaining: 1.44s\n",
      "50:\tlearn: 0.8772242\ttotal: 1.46s\tremaining: 1.41s\n",
      "51:\tlearn: 0.8770053\ttotal: 1.49s\tremaining: 1.37s\n",
      "52:\tlearn: 0.8777877\ttotal: 1.5s\tremaining: 1.33s\n",
      "53:\tlearn: 0.8801431\ttotal: 1.53s\tremaining: 1.3s\n",
      "54:\tlearn: 0.8809311\ttotal: 1.55s\tremaining: 1.27s\n",
      "55:\tlearn: 0.8827216\ttotal: 1.57s\tremaining: 1.24s\n",
      "56:\tlearn: 0.8835125\ttotal: 1.59s\tremaining: 1.2s\n",
      "57:\tlearn: 0.8866906\ttotal: 1.61s\tremaining: 1.17s\n",
      "58:\tlearn: 0.8874887\ttotal: 1.63s\tremaining: 1.14s\n",
      "59:\tlearn: 0.8890893\ttotal: 1.65s\tremaining: 1.1s\n",
      "60:\tlearn: 0.8898917\ttotal: 1.68s\tremaining: 1.07s\n",
      "61:\tlearn: 0.8890893\ttotal: 1.7s\tremaining: 1.04s\n",
      "62:\tlearn: 0.8906956\ttotal: 1.72s\tremaining: 1.01s\n",
      "63:\tlearn: 0.8915009\ttotal: 1.74s\tremaining: 977ms\n",
      "64:\tlearn: 0.8923077\ttotal: 1.76s\tremaining: 949ms\n",
      "65:\tlearn: 0.8923077\ttotal: 1.78s\tremaining: 919ms\n",
      "66:\tlearn: 0.8923077\ttotal: 1.8s\tremaining: 889ms\n",
      "67:\tlearn: 0.8923077\ttotal: 1.82s\tremaining: 858ms\n",
      "68:\tlearn: 0.8947368\ttotal: 1.84s\tremaining: 829ms\n",
      "69:\tlearn: 0.8988149\ttotal: 1.86s\tremaining: 799ms\n",
      "70:\tlearn: 0.9012797\ttotal: 1.88s\tremaining: 770ms\n",
      "71:\tlearn: 0.9029304\ttotal: 1.9s\tremaining: 740ms\n",
      "72:\tlearn: 0.9022831\ttotal: 1.92s\tremaining: 712ms\n",
      "73:\tlearn: 0.9022831\ttotal: 1.94s\tremaining: 683ms\n",
      "74:\tlearn: 0.9047619\ttotal: 1.96s\tremaining: 654ms\n",
      "75:\tlearn: 0.9055912\ttotal: 1.99s\tremaining: 628ms\n",
      "76:\tlearn: 0.9047619\ttotal: 2.01s\tremaining: 600ms\n",
      "77:\tlearn: 0.9055912\ttotal: 2.03s\tremaining: 572ms\n",
      "78:\tlearn: 0.9089236\ttotal: 2.05s\tremaining: 545ms\n",
      "79:\tlearn: 0.9097606\ttotal: 2.07s\tremaining: 518ms\n",
      "80:\tlearn: 0.9097606\ttotal: 2.09s\tremaining: 490ms\n",
      "81:\tlearn: 0.9105991\ttotal: 2.11s\tremaining: 464ms\n",
      "82:\tlearn: 0.9105991\ttotal: 2.14s\tremaining: 438ms\n",
      "83:\tlearn: 0.9105991\ttotal: 2.16s\tremaining: 412ms\n",
      "84:\tlearn: 0.9097606\ttotal: 2.19s\tremaining: 387ms\n",
      "85:\tlearn: 0.9105991\ttotal: 2.22s\tremaining: 361ms\n",
      "86:\tlearn: 0.9139685\ttotal: 2.24s\tremaining: 335ms\n",
      "87:\tlearn: 0.9148148\ttotal: 2.27s\tremaining: 309ms\n",
      "88:\tlearn: 0.9173630\ttotal: 2.29s\tremaining: 283ms\n",
      "89:\tlearn: 0.9165121\ttotal: 2.31s\tremaining: 257ms\n",
      "90:\tlearn: 0.9165121\ttotal: 2.33s\tremaining: 231ms\n",
      "91:\tlearn: 0.9182156\ttotal: 2.35s\tremaining: 205ms\n",
      "92:\tlearn: 0.9190698\ttotal: 2.37s\tremaining: 179ms\n",
      "93:\tlearn: 0.9225023\ttotal: 2.4s\tremaining: 153ms\n",
      "94:\tlearn: 0.9233645\ttotal: 2.42s\tremaining: 127ms\n",
      "95:\tlearn: 0.9233645\ttotal: 2.44s\tremaining: 102ms\n",
      "96:\tlearn: 0.9233645\ttotal: 2.46s\tremaining: 76ms\n",
      "97:\tlearn: 0.9242283\ttotal: 2.48s\tremaining: 50.6ms\n",
      "98:\tlearn: 0.9250936\ttotal: 2.5s\tremaining: 25.2ms\n",
      "99:\tlearn: 0.9268293\ttotal: 2.52s\tremaining: 0us\n",
      "Learning rate set to 0.073079\n",
      "0:\tlearn: 0.8306383\ttotal: 28.9ms\tremaining: 2.86s\n",
      "1:\tlearn: 0.8450216\ttotal: 56.6ms\tremaining: 2.77s\n",
      "2:\tlearn: 0.8420154\ttotal: 80.8ms\tremaining: 2.61s\n",
      "3:\tlearn: 0.8326325\ttotal: 107ms\tremaining: 2.56s\n",
      "4:\tlearn: 0.8347386\ttotal: 131ms\tremaining: 2.5s\n",
      "5:\tlearn: 0.8384354\ttotal: 158ms\tremaining: 2.47s\n",
      "6:\tlearn: 0.8384354\ttotal: 182ms\tremaining: 2.41s\n",
      "7:\tlearn: 0.8389831\ttotal: 208ms\tremaining: 2.39s\n",
      "8:\tlearn: 0.8432709\ttotal: 236ms\tremaining: 2.39s\n",
      "9:\tlearn: 0.8425532\ttotal: 259ms\tremaining: 2.33s\n",
      "10:\tlearn: 0.8382727\ttotal: 283ms\tremaining: 2.29s\n",
      "11:\tlearn: 0.8368555\ttotal: 306ms\tremaining: 2.24s\n",
      "12:\tlearn: 0.8396947\ttotal: 328ms\tremaining: 2.19s\n",
      "13:\tlearn: 0.8425532\ttotal: 351ms\tremaining: 2.16s\n",
      "14:\tlearn: 0.8404075\ttotal: 373ms\tremaining: 2.11s\n",
      "15:\tlearn: 0.8447099\ttotal: 398ms\tremaining: 2.09s\n",
      "16:\tlearn: 0.8483290\ttotal: 425ms\tremaining: 2.07s\n",
      "17:\tlearn: 0.8461538\ttotal: 447ms\tremaining: 2.04s\n",
      "18:\tlearn: 0.8468777\ttotal: 469ms\tremaining: 2s\n",
      "19:\tlearn: 0.8527132\ttotal: 490ms\tremaining: 1.96s\n",
      "20:\tlearn: 0.8564014\ttotal: 512ms\tremaining: 1.93s\n",
      "21:\tlearn: 0.8638743\ttotal: 535ms\tremaining: 1.9s\n",
      "22:\tlearn: 0.8623693\ttotal: 556ms\tremaining: 1.86s\n",
      "23:\tlearn: 0.8631212\ttotal: 581ms\tremaining: 1.84s\n",
      "24:\tlearn: 0.8623693\ttotal: 603ms\tremaining: 1.81s\n",
      "25:\tlearn: 0.8616188\ttotal: 624ms\tremaining: 1.78s\n",
      "26:\tlearn: 0.8631212\ttotal: 650ms\tremaining: 1.76s\n",
      "27:\tlearn: 0.8638743\ttotal: 672ms\tremaining: 1.73s\n",
      "28:\tlearn: 0.8646288\ttotal: 693ms\tremaining: 1.7s\n",
      "29:\tlearn: 0.8646288\ttotal: 715ms\tremaining: 1.67s\n",
      "30:\tlearn: 0.8653846\ttotal: 735ms\tremaining: 1.64s\n",
      "31:\tlearn: 0.8684211\ttotal: 757ms\tremaining: 1.61s\n",
      "32:\tlearn: 0.8691835\ttotal: 780ms\tremaining: 1.58s\n",
      "33:\tlearn: 0.8714789\ttotal: 805ms\tremaining: 1.56s\n",
      "34:\tlearn: 0.8737864\ttotal: 831ms\tremaining: 1.54s\n",
      "35:\tlearn: 0.8737864\ttotal: 862ms\tremaining: 1.53s\n",
      "36:\tlearn: 0.8745583\ttotal: 888ms\tremaining: 1.51s\n",
      "37:\tlearn: 0.8745583\ttotal: 915ms\tremaining: 1.49s\n",
      "38:\tlearn: 0.8761062\ttotal: 941ms\tremaining: 1.47s\n",
      "39:\tlearn: 0.8768822\ttotal: 967ms\tremaining: 1.45s\n",
      "40:\tlearn: 0.8800000\ttotal: 993ms\tremaining: 1.43s\n",
      "41:\tlearn: 0.8815672\ttotal: 1.02s\tremaining: 1.4s\n",
      "42:\tlearn: 0.8823529\ttotal: 1.04s\tremaining: 1.38s\n",
      "43:\tlearn: 0.8831401\ttotal: 1.07s\tremaining: 1.36s\n",
      "44:\tlearn: 0.8839286\ttotal: 1.1s\tremaining: 1.35s\n",
      "45:\tlearn: 0.8855098\ttotal: 1.13s\tremaining: 1.32s\n",
      "46:\tlearn: 0.8855098\ttotal: 1.15s\tremaining: 1.3s\n",
      "47:\tlearn: 0.8863026\ttotal: 1.18s\tremaining: 1.28s\n",
      "48:\tlearn: 0.8863026\ttotal: 1.2s\tremaining: 1.25s\n",
      "49:\tlearn: 0.8847185\ttotal: 1.23s\tremaining: 1.23s\n",
      "50:\tlearn: 0.8839286\ttotal: 1.25s\tremaining: 1.2s\n",
      "51:\tlearn: 0.8855098\ttotal: 1.27s\tremaining: 1.18s\n",
      "52:\tlearn: 0.8878924\ttotal: 1.3s\tremaining: 1.15s\n",
      "53:\tlearn: 0.8902878\ttotal: 1.33s\tremaining: 1.13s\n",
      "54:\tlearn: 0.8926961\ttotal: 1.36s\tremaining: 1.11s\n",
      "55:\tlearn: 0.8943089\ttotal: 1.39s\tremaining: 1.09s\n",
      "56:\tlearn: 0.8926961\ttotal: 1.41s\tremaining: 1.06s\n",
      "57:\tlearn: 0.8926961\ttotal: 1.44s\tremaining: 1.04s\n",
      "58:\tlearn: 0.8951175\ttotal: 1.47s\tremaining: 1.02s\n",
      "59:\tlearn: 0.8959276\ttotal: 1.49s\tremaining: 994ms\n",
      "60:\tlearn: 0.8959276\ttotal: 1.51s\tremaining: 969ms\n",
      "61:\tlearn: 0.8951175\ttotal: 1.54s\tremaining: 945ms\n",
      "62:\tlearn: 0.8959276\ttotal: 1.56s\tremaining: 919ms\n",
      "63:\tlearn: 0.8975521\ttotal: 1.59s\tremaining: 895ms\n",
      "64:\tlearn: 0.8975521\ttotal: 1.61s\tremaining: 870ms\n",
      "65:\tlearn: 0.8975521\ttotal: 1.64s\tremaining: 844ms\n",
      "66:\tlearn: 0.8975521\ttotal: 1.66s\tremaining: 818ms\n"
     ]
    },
    {
     "name": "stdout",
     "output_type": "stream",
     "text": [
      "67:\tlearn: 0.8975521\ttotal: 1.69s\tremaining: 794ms\n",
      "68:\tlearn: 0.9000000\ttotal: 1.71s\tremaining: 769ms\n",
      "69:\tlearn: 0.9008189\ttotal: 1.74s\tremaining: 746ms\n",
      "70:\tlearn: 0.9000000\ttotal: 1.77s\tremaining: 724ms\n",
      "71:\tlearn: 0.9008189\ttotal: 1.8s\tremaining: 699ms\n",
      "72:\tlearn: 0.9041096\ttotal: 1.82s\tremaining: 674ms\n",
      "73:\tlearn: 0.9049360\ttotal: 1.85s\tremaining: 649ms\n",
      "74:\tlearn: 0.9074244\ttotal: 1.87s\tremaining: 625ms\n",
      "75:\tlearn: 0.9065934\ttotal: 1.9s\tremaining: 601ms\n",
      "76:\tlearn: 0.9065934\ttotal: 1.93s\tremaining: 576ms\n",
      "77:\tlearn: 0.9082569\ttotal: 1.95s\tremaining: 551ms\n",
      "78:\tlearn: 0.9089236\ttotal: 1.97s\tremaining: 525ms\n",
      "79:\tlearn: 0.9105991\ttotal: 2s\tremaining: 499ms\n",
      "80:\tlearn: 0.9114391\ttotal: 2.02s\tremaining: 473ms\n",
      "81:\tlearn: 0.9114391\ttotal: 2.04s\tremaining: 448ms\n",
      "82:\tlearn: 0.9131238\ttotal: 2.06s\tremaining: 422ms\n",
      "83:\tlearn: 0.9131238\ttotal: 2.08s\tremaining: 397ms\n",
      "84:\tlearn: 0.9156627\ttotal: 2.11s\tremaining: 372ms\n",
      "85:\tlearn: 0.9173630\ttotal: 2.13s\tremaining: 348ms\n",
      "86:\tlearn: 0.9182156\ttotal: 2.16s\tremaining: 323ms\n",
      "87:\tlearn: 0.9199255\ttotal: 2.19s\tremaining: 298ms\n",
      "88:\tlearn: 0.9199255\ttotal: 2.21s\tremaining: 273ms\n",
      "89:\tlearn: 0.9233645\ttotal: 2.24s\tremaining: 248ms\n",
      "90:\tlearn: 0.9225023\ttotal: 2.26s\tremaining: 224ms\n",
      "91:\tlearn: 0.9225023\ttotal: 2.29s\tremaining: 199ms\n",
      "92:\tlearn: 0.9242283\ttotal: 2.31s\tremaining: 174ms\n",
      "93:\tlearn: 0.9233645\ttotal: 2.33s\tremaining: 149ms\n",
      "94:\tlearn: 0.9259606\ttotal: 2.35s\tremaining: 124ms\n",
      "95:\tlearn: 0.9276995\ttotal: 2.38s\tremaining: 99ms\n",
      "96:\tlearn: 0.9276995\ttotal: 2.4s\tremaining: 74.2ms\n",
      "97:\tlearn: 0.9276995\ttotal: 2.42s\tremaining: 49.5ms\n",
      "98:\tlearn: 0.9303202\ttotal: 2.45s\tremaining: 24.7ms\n",
      "99:\tlearn: 0.9311970\ttotal: 2.47s\tremaining: 0us\n",
      "Learning rate set to 0.073079\n",
      "0:\tlearn: 0.8289362\ttotal: 25.4ms\tremaining: 2.52s\n",
      "1:\tlearn: 0.8365792\ttotal: 48.5ms\tremaining: 2.38s\n",
      "2:\tlearn: 0.8347386\ttotal: 71.8ms\tremaining: 2.32s\n",
      "3:\tlearn: 0.8354430\ttotal: 94.5ms\tremaining: 2.27s\n",
      "4:\tlearn: 0.8354430\ttotal: 117ms\tremaining: 2.23s\n",
      "5:\tlearn: 0.8347386\ttotal: 144ms\tremaining: 2.25s\n",
      "6:\tlearn: 0.8305369\ttotal: 170ms\tremaining: 2.26s\n",
      "7:\tlearn: 0.8312343\ttotal: 196ms\tremaining: 2.26s\n",
      "8:\tlearn: 0.8333333\ttotal: 222ms\tremaining: 2.24s\n",
      "9:\tlearn: 0.8347386\ttotal: 246ms\tremaining: 2.21s\n",
      "10:\tlearn: 0.8340354\ttotal: 273ms\tremaining: 2.21s\n",
      "11:\tlearn: 0.8340354\ttotal: 297ms\tremaining: 2.18s\n",
      "12:\tlearn: 0.8382727\ttotal: 320ms\tremaining: 2.14s\n",
      "13:\tlearn: 0.8418367\ttotal: 344ms\tremaining: 2.11s\n",
      "14:\tlearn: 0.8411215\ttotal: 365ms\tremaining: 2.07s\n",
      "15:\tlearn: 0.8389831\ttotal: 426ms\tremaining: 2.23s\n",
      "16:\tlearn: 0.8404075\ttotal: 448ms\tremaining: 2.19s\n",
      "17:\tlearn: 0.8396947\ttotal: 476ms\tremaining: 2.17s\n",
      "18:\tlearn: 0.8425532\ttotal: 500ms\tremaining: 2.13s\n",
      "19:\tlearn: 0.8432709\ttotal: 524ms\tremaining: 2.1s\n",
      "20:\tlearn: 0.8447099\ttotal: 550ms\tremaining: 2.07s\n",
      "21:\tlearn: 0.8483290\ttotal: 575ms\tremaining: 2.04s\n",
      "22:\tlearn: 0.8519793\ttotal: 599ms\tremaining: 2s\n",
      "23:\tlearn: 0.8549223\ttotal: 625ms\tremaining: 1.98s\n",
      "24:\tlearn: 0.8527132\ttotal: 652ms\tremaining: 1.96s\n",
      "25:\tlearn: 0.8556612\ttotal: 673ms\tremaining: 1.92s\n",
      "26:\tlearn: 0.8564014\ttotal: 697ms\tremaining: 1.88s\n",
      "27:\tlearn: 0.8564014\ttotal: 719ms\tremaining: 1.85s\n",
      "28:\tlearn: 0.8586297\ttotal: 741ms\tremaining: 1.81s\n",
      "29:\tlearn: 0.8591304\ttotal: 763ms\tremaining: 1.78s\n",
      "30:\tlearn: 0.8591304\ttotal: 788ms\tremaining: 1.75s\n",
      "31:\tlearn: 0.8598782\ttotal: 813ms\tremaining: 1.73s\n",
      "32:\tlearn: 0.8591304\ttotal: 841ms\tremaining: 1.71s\n",
      "33:\tlearn: 0.8581375\ttotal: 869ms\tremaining: 1.69s\n",
      "34:\tlearn: 0.8591304\ttotal: 892ms\tremaining: 1.66s\n",
      "35:\tlearn: 0.8621291\ttotal: 921ms\tremaining: 1.64s\n",
      "36:\tlearn: 0.8621291\ttotal: 946ms\tremaining: 1.61s\n",
      "37:\tlearn: 0.8591304\ttotal: 970ms\tremaining: 1.58s\n",
      "38:\tlearn: 0.8613775\ttotal: 992ms\tremaining: 1.55s\n",
      "39:\tlearn: 0.8598782\ttotal: 1.01s\tremaining: 1.52s\n",
      "40:\tlearn: 0.8628821\ttotal: 1.04s\tremaining: 1.49s\n",
      "41:\tlearn: 0.8628821\ttotal: 1.06s\tremaining: 1.46s\n",
      "42:\tlearn: 0.8651489\ttotal: 1.08s\tremaining: 1.44s\n",
      "43:\tlearn: 0.8659071\ttotal: 1.11s\tremaining: 1.41s\n",
      "44:\tlearn: 0.8659071\ttotal: 1.13s\tremaining: 1.39s\n",
      "45:\tlearn: 0.8659071\ttotal: 1.16s\tremaining: 1.36s\n",
      "46:\tlearn: 0.8697183\ttotal: 1.19s\tremaining: 1.34s\n",
      "47:\tlearn: 0.8697183\ttotal: 1.22s\tremaining: 1.32s\n",
      "48:\tlearn: 0.8712522\ttotal: 1.24s\tremaining: 1.29s\n",
      "49:\tlearn: 0.8735632\ttotal: 1.27s\tremaining: 1.27s\n",
      "50:\tlearn: 0.8735632\ttotal: 1.29s\tremaining: 1.24s\n",
      "51:\tlearn: 0.8735632\ttotal: 1.32s\tremaining: 1.22s\n",
      "52:\tlearn: 0.8751107\ttotal: 1.34s\tremaining: 1.19s\n",
      "53:\tlearn: 0.8751107\ttotal: 1.37s\tremaining: 1.17s\n",
      "54:\tlearn: 0.8766637\ttotal: 1.39s\tremaining: 1.14s\n",
      "55:\tlearn: 0.8758865\ttotal: 1.41s\tremaining: 1.11s\n",
      "56:\tlearn: 0.8774423\ttotal: 1.44s\tremaining: 1.08s\n",
      "57:\tlearn: 0.8790036\ttotal: 1.46s\tremaining: 1.06s\n",
      "58:\tlearn: 0.8797863\ttotal: 1.49s\tremaining: 1.03s\n",
      "59:\tlearn: 0.8805704\ttotal: 1.52s\tremaining: 1.01s\n",
      "60:\tlearn: 0.8819320\ttotal: 1.54s\tremaining: 986ms\n",
      "61:\tlearn: 0.8843049\ttotal: 1.56s\tremaining: 960ms\n",
      "62:\tlearn: 0.8858940\ttotal: 1.59s\tremaining: 934ms\n",
      "63:\tlearn: 0.8866906\ttotal: 1.61s\tremaining: 908ms\n",
      "64:\tlearn: 0.8874887\ttotal: 1.64s\tremaining: 882ms\n",
      "65:\tlearn: 0.8892889\ttotal: 1.66s\tremaining: 855ms\n",
      "66:\tlearn: 0.8900901\ttotal: 1.69s\tremaining: 830ms\n",
      "67:\tlearn: 0.8910891\ttotal: 1.71s\tremaining: 806ms\n",
      "68:\tlearn: 0.8926961\ttotal: 1.75s\tremaining: 785ms\n",
      "69:\tlearn: 0.8935018\ttotal: 1.77s\tremaining: 759ms\n",
      "70:\tlearn: 0.8975521\ttotal: 1.79s\tremaining: 733ms\n",
      "71:\tlearn: 0.8975521\ttotal: 1.82s\tremaining: 708ms\n",
      "72:\tlearn: 0.9000000\ttotal: 1.84s\tremaining: 682ms\n",
      "73:\tlearn: 0.9000000\ttotal: 1.87s\tremaining: 657ms\n",
      "74:\tlearn: 0.8991826\ttotal: 1.89s\tremaining: 631ms\n",
      "75:\tlearn: 0.9000000\ttotal: 1.92s\tremaining: 606ms\n",
      "76:\tlearn: 0.9008189\ttotal: 1.94s\tremaining: 580ms\n",
      "77:\tlearn: 0.9008189\ttotal: 1.97s\tremaining: 555ms\n",
      "78:\tlearn: 0.9008189\ttotal: 1.99s\tremaining: 530ms\n",
      "79:\tlearn: 0.9000000\ttotal: 2.02s\tremaining: 505ms\n",
      "80:\tlearn: 0.9008189\ttotal: 2.04s\tremaining: 479ms\n",
      "81:\tlearn: 0.9032847\ttotal: 2.06s\tremaining: 453ms\n",
      "82:\tlearn: 0.9049360\ttotal: 2.09s\tremaining: 428ms\n",
      "83:\tlearn: 0.9057640\ttotal: 2.11s\tremaining: 402ms\n",
      "84:\tlearn: 0.9065934\ttotal: 2.13s\tremaining: 376ms\n",
      "85:\tlearn: 0.9090909\ttotal: 2.15s\tremaining: 351ms\n",
      "86:\tlearn: 0.9099265\ttotal: 2.18s\tremaining: 326ms\n",
      "87:\tlearn: 0.9097606\ttotal: 2.2s\tremaining: 301ms\n",
      "88:\tlearn: 0.9114391\ttotal: 2.23s\tremaining: 275ms\n",
      "89:\tlearn: 0.9114391\ttotal: 2.25s\tremaining: 250ms\n",
      "90:\tlearn: 0.9122807\ttotal: 2.27s\tremaining: 225ms\n",
      "91:\tlearn: 0.9131238\ttotal: 2.3s\tremaining: 200ms\n",
      "92:\tlearn: 0.9156627\ttotal: 2.32s\tremaining: 175ms\n",
      "93:\tlearn: 0.9175162\ttotal: 2.35s\tremaining: 150ms\n",
      "94:\tlearn: 0.9209302\ttotal: 2.37s\tremaining: 125ms\n",
      "95:\tlearn: 0.9226468\ttotal: 2.4s\tremaining: 99.9ms\n",
      "96:\tlearn: 0.9235075\ttotal: 2.42s\tremaining: 74.9ms\n",
      "97:\tlearn: 0.9226468\ttotal: 2.44s\tremaining: 49.8ms\n",
      "98:\tlearn: 0.9243697\ttotal: 2.46s\tremaining: 24.9ms\n",
      "99:\tlearn: 0.9243697\ttotal: 2.49s\tremaining: 0us\n",
      "Learning rate set to 0.073079\n",
      "0:\tlearn: 0.8316327\ttotal: 26.8ms\tremaining: 2.65s\n",
      "1:\tlearn: 0.8363020\ttotal: 49.9ms\tremaining: 2.45s\n",
      "2:\tlearn: 0.8422847\ttotal: 72.7ms\tremaining: 2.35s\n",
      "3:\tlearn: 0.8425532\ttotal: 95ms\tremaining: 2.28s\n",
      "4:\tlearn: 0.8361486\ttotal: 117ms\tremaining: 2.22s\n",
      "5:\tlearn: 0.8333333\ttotal: 136ms\tremaining: 2.14s\n",
      "6:\tlearn: 0.8340354\ttotal: 156ms\tremaining: 2.07s\n",
      "7:\tlearn: 0.8333333\ttotal: 175ms\tremaining: 2.01s\n",
      "8:\tlearn: 0.8361486\ttotal: 195ms\tremaining: 1.98s\n",
      "9:\tlearn: 0.8316498\ttotal: 219ms\tremaining: 1.97s\n",
      "10:\tlearn: 0.8323505\ttotal: 244ms\tremaining: 1.97s\n",
      "11:\tlearn: 0.8344595\ttotal: 265ms\tremaining: 1.94s\n",
      "12:\tlearn: 0.8387097\ttotal: 289ms\tremaining: 1.94s\n",
      "13:\tlearn: 0.8401361\ttotal: 311ms\tremaining: 1.91s\n",
      "14:\tlearn: 0.8394223\ttotal: 332ms\tremaining: 1.88s\n",
      "15:\tlearn: 0.8461538\ttotal: 355ms\tremaining: 1.86s\n",
      "16:\tlearn: 0.8490566\ttotal: 376ms\tremaining: 1.83s\n",
      "17:\tlearn: 0.8512468\ttotal: 397ms\tremaining: 1.81s\n",
      "18:\tlearn: 0.8497854\ttotal: 418ms\tremaining: 1.78s\n",
      "19:\tlearn: 0.8519793\ttotal: 441ms\tremaining: 1.76s\n",
      "20:\tlearn: 0.8534483\ttotal: 462ms\tremaining: 1.74s\n",
      "21:\tlearn: 0.8490566\ttotal: 483ms\tremaining: 1.71s\n",
      "22:\tlearn: 0.8512468\ttotal: 503ms\tremaining: 1.68s\n",
      "23:\tlearn: 0.8512468\ttotal: 524ms\tremaining: 1.66s\n",
      "24:\tlearn: 0.8519793\ttotal: 547ms\tremaining: 1.64s\n",
      "25:\tlearn: 0.8549223\ttotal: 570ms\tremaining: 1.62s\n",
      "26:\tlearn: 0.8556612\ttotal: 592ms\tremaining: 1.6s\n",
      "27:\tlearn: 0.8586297\ttotal: 614ms\tremaining: 1.58s\n",
      "28:\tlearn: 0.8593750\ttotal: 637ms\tremaining: 1.56s\n"
     ]
    },
    {
     "name": "stdout",
     "output_type": "stream",
     "text": [
      "29:\tlearn: 0.8608696\ttotal: 661ms\tremaining: 1.54s\n",
      "30:\tlearn: 0.8631212\ttotal: 684ms\tremaining: 1.52s\n",
      "31:\tlearn: 0.8653846\ttotal: 705ms\tremaining: 1.5s\n",
      "32:\tlearn: 0.8669002\ttotal: 725ms\tremaining: 1.47s\n",
      "33:\tlearn: 0.8676599\ttotal: 746ms\tremaining: 1.45s\n",
      "34:\tlearn: 0.8691835\ttotal: 765ms\tremaining: 1.42s\n",
      "35:\tlearn: 0.8707124\ttotal: 785ms\tremaining: 1.4s\n",
      "36:\tlearn: 0.8714789\ttotal: 805ms\tremaining: 1.37s\n",
      "37:\tlearn: 0.8714789\ttotal: 830ms\tremaining: 1.35s\n",
      "38:\tlearn: 0.8730159\ttotal: 858ms\tremaining: 1.34s\n",
      "39:\tlearn: 0.8745583\ttotal: 882ms\tremaining: 1.32s\n",
      "40:\tlearn: 0.8761062\ttotal: 903ms\tremaining: 1.3s\n",
      "41:\tlearn: 0.8768822\ttotal: 924ms\tremaining: 1.27s\n",
      "42:\tlearn: 0.8800000\ttotal: 945ms\tremaining: 1.25s\n",
      "43:\tlearn: 0.8800000\ttotal: 968ms\tremaining: 1.23s\n",
      "44:\tlearn: 0.8815672\ttotal: 990ms\tremaining: 1.21s\n",
      "45:\tlearn: 0.8807829\ttotal: 1.01s\tremaining: 1.19s\n",
      "46:\tlearn: 0.8807829\ttotal: 1.03s\tremaining: 1.16s\n",
      "47:\tlearn: 0.8807829\ttotal: 1.05s\tremaining: 1.14s\n",
      "48:\tlearn: 0.8815672\ttotal: 1.08s\tremaining: 1.13s\n",
      "49:\tlearn: 0.8815672\ttotal: 1.1s\tremaining: 1.1s\n",
      "50:\tlearn: 0.8831401\ttotal: 1.12s\tremaining: 1.08s\n",
      "51:\tlearn: 0.8847185\ttotal: 1.15s\tremaining: 1.06s\n",
      "52:\tlearn: 0.8823529\ttotal: 1.17s\tremaining: 1.04s\n",
      "53:\tlearn: 0.8823529\ttotal: 1.2s\tremaining: 1.02s\n",
      "54:\tlearn: 0.8831401\ttotal: 1.22s\tremaining: 996ms\n",
      "55:\tlearn: 0.8831401\ttotal: 1.24s\tremaining: 976ms\n",
      "56:\tlearn: 0.8863026\ttotal: 1.27s\tremaining: 955ms\n",
      "57:\tlearn: 0.8878924\ttotal: 1.29s\tremaining: 935ms\n",
      "58:\tlearn: 0.8902878\ttotal: 1.31s\tremaining: 911ms\n",
      "59:\tlearn: 0.8926961\ttotal: 1.33s\tremaining: 887ms\n",
      "60:\tlearn: 0.8918919\ttotal: 1.35s\tremaining: 863ms\n",
      "61:\tlearn: 0.8910891\ttotal: 1.37s\tremaining: 839ms\n",
      "62:\tlearn: 0.8910891\ttotal: 1.39s\tremaining: 816ms\n",
      "63:\tlearn: 0.8926961\ttotal: 1.41s\tremaining: 795ms\n",
      "64:\tlearn: 0.8951175\ttotal: 1.43s\tremaining: 772ms\n",
      "65:\tlearn: 0.8967391\ttotal: 1.46s\tremaining: 753ms\n",
      "66:\tlearn: 0.8991826\ttotal: 1.48s\tremaining: 730ms\n",
      "67:\tlearn: 0.8975521\ttotal: 1.51s\tremaining: 709ms\n",
      "68:\tlearn: 0.8983666\ttotal: 1.53s\tremaining: 687ms\n",
      "69:\tlearn: 0.8991826\ttotal: 1.55s\tremaining: 666ms\n",
      "70:\tlearn: 0.8991826\ttotal: 1.57s\tremaining: 644ms\n",
      "71:\tlearn: 0.8991826\ttotal: 1.6s\tremaining: 621ms\n",
      "72:\tlearn: 0.8991826\ttotal: 1.62s\tremaining: 598ms\n",
      "73:\tlearn: 0.9031079\ttotal: 1.64s\tremaining: 575ms\n",
      "74:\tlearn: 0.9039341\ttotal: 1.66s\tremaining: 553ms\n",
      "75:\tlearn: 0.9055912\ttotal: 1.68s\tremaining: 531ms\n",
      "76:\tlearn: 0.9047619\ttotal: 1.7s\tremaining: 508ms\n",
      "77:\tlearn: 0.9064220\ttotal: 1.73s\tremaining: 487ms\n",
      "78:\tlearn: 0.9105991\ttotal: 1.75s\tremaining: 465ms\n",
      "79:\tlearn: 0.9105991\ttotal: 1.77s\tremaining: 443ms\n",
      "80:\tlearn: 0.9114391\ttotal: 1.79s\tremaining: 421ms\n",
      "81:\tlearn: 0.9122807\ttotal: 1.82s\tremaining: 399ms\n",
      "82:\tlearn: 0.9122807\ttotal: 1.84s\tremaining: 377ms\n",
      "83:\tlearn: 0.9122807\ttotal: 1.87s\tremaining: 356ms\n",
      "84:\tlearn: 0.9139685\ttotal: 1.89s\tremaining: 334ms\n",
      "85:\tlearn: 0.9131238\ttotal: 1.91s\tremaining: 311ms\n",
      "86:\tlearn: 0.9165121\ttotal: 1.94s\tremaining: 289ms\n",
      "87:\tlearn: 0.9182156\ttotal: 1.96s\tremaining: 267ms\n",
      "88:\tlearn: 0.9199255\ttotal: 1.97s\tremaining: 244ms\n",
      "89:\tlearn: 0.9199255\ttotal: 2s\tremaining: 222ms\n",
      "90:\tlearn: 0.9225023\ttotal: 2.01s\tremaining: 199ms\n",
      "91:\tlearn: 0.9242283\ttotal: 2.03s\tremaining: 177ms\n",
      "92:\tlearn: 0.9233645\ttotal: 2.05s\tremaining: 155ms\n",
      "93:\tlearn: 0.9250936\ttotal: 2.09s\tremaining: 133ms\n",
      "94:\tlearn: 0.9242283\ttotal: 2.12s\tremaining: 112ms\n",
      "95:\tlearn: 0.9276995\ttotal: 2.15s\tremaining: 89.7ms\n",
      "96:\tlearn: 0.9304511\ttotal: 2.17s\tremaining: 67.2ms\n",
      "97:\tlearn: 0.9313264\ttotal: 2.2s\tremaining: 44.8ms\n",
      "98:\tlearn: 0.9322034\ttotal: 2.22s\tremaining: 22.4ms\n",
      "99:\tlearn: 0.9339623\ttotal: 2.24s\tremaining: 0us\n",
      "Learning rate set to 0.073079\n",
      "0:\tlearn: 0.8298407\ttotal: 24ms\tremaining: 2.38s\n",
      "1:\tlearn: 0.8340354\ttotal: 48.4ms\tremaining: 2.37s\n",
      "2:\tlearn: 0.8333333\ttotal: 73.3ms\tremaining: 2.37s\n",
      "3:\tlearn: 0.8347386\ttotal: 99.4ms\tremaining: 2.39s\n",
      "4:\tlearn: 0.8284519\ttotal: 128ms\tremaining: 2.44s\n",
      "5:\tlearn: 0.8284519\ttotal: 151ms\tremaining: 2.37s\n",
      "6:\tlearn: 0.8284519\ttotal: 175ms\tremaining: 2.33s\n",
      "7:\tlearn: 0.8284519\ttotal: 200ms\tremaining: 2.3s\n",
      "8:\tlearn: 0.8284519\ttotal: 225ms\tremaining: 2.28s\n",
      "9:\tlearn: 0.8284519\ttotal: 249ms\tremaining: 2.24s\n",
      "10:\tlearn: 0.8319328\ttotal: 271ms\tremaining: 2.19s\n",
      "11:\tlearn: 0.8312343\ttotal: 294ms\tremaining: 2.15s\n",
      "12:\tlearn: 0.8319328\ttotal: 315ms\tremaining: 2.11s\n",
      "13:\tlearn: 0.8305369\ttotal: 337ms\tremaining: 2.07s\n",
      "14:\tlearn: 0.8298407\ttotal: 363ms\tremaining: 2.06s\n",
      "15:\tlearn: 0.8312343\ttotal: 387ms\tremaining: 2.03s\n",
      "16:\tlearn: 0.8312343\ttotal: 415ms\tremaining: 2.02s\n",
      "17:\tlearn: 0.8347386\ttotal: 442ms\tremaining: 2.01s\n",
      "18:\tlearn: 0.8347386\ttotal: 467ms\tremaining: 1.99s\n",
      "19:\tlearn: 0.8368555\ttotal: 493ms\tremaining: 1.97s\n",
      "20:\tlearn: 0.8382727\ttotal: 516ms\tremaining: 1.94s\n",
      "21:\tlearn: 0.8396947\ttotal: 542ms\tremaining: 1.92s\n",
      "22:\tlearn: 0.8404075\ttotal: 565ms\tremaining: 1.89s\n",
      "23:\tlearn: 0.8418367\ttotal: 589ms\tremaining: 1.86s\n",
      "24:\tlearn: 0.8447099\ttotal: 615ms\tremaining: 1.84s\n",
      "25:\tlearn: 0.8476027\ttotal: 636ms\tremaining: 1.81s\n",
      "26:\tlearn: 0.8483290\ttotal: 659ms\tremaining: 1.78s\n",
      "27:\tlearn: 0.8519793\ttotal: 683ms\tremaining: 1.75s\n",
      "28:\tlearn: 0.8505155\ttotal: 709ms\tremaining: 1.74s\n",
      "29:\tlearn: 0.8556612\ttotal: 734ms\tremaining: 1.71s\n",
      "30:\tlearn: 0.8556612\ttotal: 758ms\tremaining: 1.69s\n",
      "31:\tlearn: 0.8549223\ttotal: 782ms\tremaining: 1.66s\n",
      "32:\tlearn: 0.8571429\ttotal: 808ms\tremaining: 1.64s\n",
      "33:\tlearn: 0.8564014\ttotal: 835ms\tremaining: 1.62s\n",
      "34:\tlearn: 0.8549223\ttotal: 859ms\tremaining: 1.59s\n",
      "35:\tlearn: 0.8564014\ttotal: 882ms\tremaining: 1.57s\n",
      "36:\tlearn: 0.8586297\ttotal: 907ms\tremaining: 1.54s\n",
      "37:\tlearn: 0.8601216\ttotal: 930ms\tremaining: 1.52s\n",
      "38:\tlearn: 0.8623693\ttotal: 952ms\tremaining: 1.49s\n",
      "39:\tlearn: 0.8631212\ttotal: 974ms\tremaining: 1.46s\n",
      "40:\tlearn: 0.8631212\ttotal: 996ms\tremaining: 1.43s\n",
      "41:\tlearn: 0.8638743\ttotal: 1.02s\tremaining: 1.41s\n",
      "42:\tlearn: 0.8661417\ttotal: 1.05s\tremaining: 1.39s\n",
      "43:\tlearn: 0.8661417\ttotal: 1.07s\tremaining: 1.36s\n",
      "44:\tlearn: 0.8676599\ttotal: 1.09s\tremaining: 1.34s\n",
      "45:\tlearn: 0.8684211\ttotal: 1.12s\tremaining: 1.32s\n",
      "46:\tlearn: 0.8691835\ttotal: 1.15s\tremaining: 1.29s\n",
      "47:\tlearn: 0.8707124\ttotal: 1.17s\tremaining: 1.27s\n",
      "48:\tlearn: 0.8745583\ttotal: 1.2s\tremaining: 1.25s\n",
      "49:\tlearn: 0.8753316\ttotal: 1.22s\tremaining: 1.22s\n",
      "50:\tlearn: 0.8761062\ttotal: 1.24s\tremaining: 1.2s\n",
      "51:\tlearn: 0.8753316\ttotal: 1.27s\tremaining: 1.17s\n",
      "52:\tlearn: 0.8753316\ttotal: 1.29s\tremaining: 1.14s\n",
      "53:\tlearn: 0.8745583\ttotal: 1.31s\tremaining: 1.12s\n",
      "54:\tlearn: 0.8768822\ttotal: 1.33s\tremaining: 1.09s\n",
      "55:\tlearn: 0.8800000\ttotal: 1.36s\tremaining: 1.07s\n",
      "56:\tlearn: 0.8823529\ttotal: 1.39s\tremaining: 1.05s\n",
      "57:\tlearn: 0.8823529\ttotal: 1.41s\tremaining: 1.02s\n",
      "58:\tlearn: 0.8831401\ttotal: 1.44s\tremaining: 999ms\n",
      "59:\tlearn: 0.8831401\ttotal: 1.47s\tremaining: 977ms\n",
      "60:\tlearn: 0.8823529\ttotal: 1.49s\tremaining: 953ms\n",
      "61:\tlearn: 0.8823529\ttotal: 1.51s\tremaining: 928ms\n",
      "62:\tlearn: 0.8839286\ttotal: 1.54s\tremaining: 904ms\n",
      "63:\tlearn: 0.8839286\ttotal: 1.56s\tremaining: 878ms\n",
      "64:\tlearn: 0.8855098\ttotal: 1.58s\tremaining: 853ms\n",
      "65:\tlearn: 0.8894879\ttotal: 1.6s\tremaining: 826ms\n",
      "66:\tlearn: 0.8918919\ttotal: 1.63s\tremaining: 801ms\n",
      "67:\tlearn: 0.8918919\ttotal: 1.65s\tremaining: 776ms\n",
      "68:\tlearn: 0.8935018\ttotal: 1.68s\tremaining: 753ms\n",
      "69:\tlearn: 0.8935018\ttotal: 1.7s\tremaining: 729ms\n",
      "70:\tlearn: 0.8935018\ttotal: 1.73s\tremaining: 705ms\n",
      "71:\tlearn: 0.8935018\ttotal: 1.75s\tremaining: 681ms\n",
      "72:\tlearn: 0.8951175\ttotal: 1.77s\tremaining: 656ms\n",
      "73:\tlearn: 0.8959276\ttotal: 1.8s\tremaining: 633ms\n",
      "74:\tlearn: 0.8959276\ttotal: 1.82s\tremaining: 609ms\n",
      "75:\tlearn: 0.8975521\ttotal: 1.85s\tremaining: 585ms\n",
      "76:\tlearn: 0.8975521\ttotal: 1.88s\tremaining: 560ms\n",
      "77:\tlearn: 0.8975521\ttotal: 1.9s\tremaining: 536ms\n",
      "78:\tlearn: 0.8967391\ttotal: 1.92s\tremaining: 511ms\n",
      "79:\tlearn: 0.8991826\ttotal: 1.94s\tremaining: 486ms\n",
      "80:\tlearn: 0.9000000\ttotal: 2s\tremaining: 468ms\n",
      "81:\tlearn: 0.9016393\ttotal: 2.02s\tremaining: 443ms\n",
      "82:\tlearn: 0.9022831\ttotal: 2.04s\tremaining: 418ms\n",
      "83:\tlearn: 0.9047619\ttotal: 2.07s\tremaining: 394ms\n",
      "84:\tlearn: 0.9039341\ttotal: 2.1s\tremaining: 370ms\n",
      "85:\tlearn: 0.9039341\ttotal: 2.12s\tremaining: 345ms\n",
      "86:\tlearn: 0.9039341\ttotal: 2.15s\tremaining: 321ms\n",
      "87:\tlearn: 0.9047619\ttotal: 2.17s\tremaining: 296ms\n",
      "88:\tlearn: 0.9055912\ttotal: 2.19s\tremaining: 271ms\n",
      "89:\tlearn: 0.9055912\ttotal: 2.22s\tremaining: 246ms\n",
      "90:\tlearn: 0.9072544\ttotal: 2.24s\tremaining: 222ms\n"
     ]
    },
    {
     "name": "stdout",
     "output_type": "stream",
     "text": [
      "91:\tlearn: 0.9072544\ttotal: 2.27s\tremaining: 197ms\n",
      "92:\tlearn: 0.9065934\ttotal: 2.29s\tremaining: 173ms\n",
      "93:\tlearn: 0.9090909\ttotal: 2.32s\tremaining: 148ms\n",
      "94:\tlearn: 0.9090909\ttotal: 2.34s\tremaining: 123ms\n",
      "95:\tlearn: 0.9099265\ttotal: 2.36s\tremaining: 98.4ms\n",
      "96:\tlearn: 0.9124424\ttotal: 2.39s\tremaining: 73.8ms\n",
      "97:\tlearn: 0.9141274\ttotal: 2.41s\tremaining: 49.2ms\n",
      "98:\tlearn: 0.9158187\ttotal: 2.44s\tremaining: 24.6ms\n",
      "99:\tlearn: 0.9183673\ttotal: 2.46s\tremaining: 0us\n",
      "Learning rate set to 0.073079\n",
      "0:\tlearn: 0.8314799\ttotal: 24.6ms\tremaining: 2.43s\n",
      "1:\tlearn: 0.8361486\ttotal: 47.3ms\tremaining: 2.32s\n",
      "2:\tlearn: 0.8323505\ttotal: 69.2ms\tremaining: 2.24s\n",
      "3:\tlearn: 0.8375635\ttotal: 90.7ms\tremaining: 2.18s\n",
      "4:\tlearn: 0.8333333\ttotal: 113ms\tremaining: 2.15s\n",
      "5:\tlearn: 0.8298407\ttotal: 140ms\tremaining: 2.2s\n",
      "6:\tlearn: 0.8312343\ttotal: 174ms\tremaining: 2.31s\n",
      "7:\tlearn: 0.8305369\ttotal: 215ms\tremaining: 2.47s\n",
      "8:\tlearn: 0.8305369\ttotal: 295ms\tremaining: 2.98s\n",
      "9:\tlearn: 0.8298407\ttotal: 391ms\tremaining: 3.52s\n",
      "10:\tlearn: 0.8291457\ttotal: 431ms\tremaining: 3.48s\n",
      "11:\tlearn: 0.8319328\ttotal: 469ms\tremaining: 3.44s\n",
      "12:\tlearn: 0.8305369\ttotal: 507ms\tremaining: 3.39s\n",
      "13:\tlearn: 0.8305369\ttotal: 557ms\tremaining: 3.42s\n",
      "14:\tlearn: 0.8305369\ttotal: 602ms\tremaining: 3.41s\n",
      "15:\tlearn: 0.8340354\ttotal: 634ms\tremaining: 3.33s\n",
      "16:\tlearn: 0.8340354\ttotal: 663ms\tremaining: 3.24s\n",
      "17:\tlearn: 0.8361486\ttotal: 692ms\tremaining: 3.15s\n",
      "18:\tlearn: 0.8404075\ttotal: 724ms\tremaining: 3.08s\n",
      "19:\tlearn: 0.8439898\ttotal: 751ms\tremaining: 3s\n",
      "20:\tlearn: 0.8447099\ttotal: 774ms\tremaining: 2.91s\n",
      "21:\tlearn: 0.8476027\ttotal: 798ms\tremaining: 2.83s\n",
      "22:\tlearn: 0.8497854\ttotal: 822ms\tremaining: 2.75s\n",
      "23:\tlearn: 0.8490566\ttotal: 848ms\tremaining: 2.69s\n",
      "24:\tlearn: 0.8497854\ttotal: 870ms\tremaining: 2.61s\n",
      "25:\tlearn: 0.8512468\ttotal: 897ms\tremaining: 2.55s\n",
      "26:\tlearn: 0.8534483\ttotal: 919ms\tremaining: 2.48s\n",
      "27:\tlearn: 0.8519793\ttotal: 944ms\tremaining: 2.43s\n",
      "28:\tlearn: 0.8527132\ttotal: 969ms\tremaining: 2.37s\n",
      "29:\tlearn: 0.8549223\ttotal: 990ms\tremaining: 2.31s\n",
      "30:\tlearn: 0.8571429\ttotal: 1.01s\tremaining: 2.25s\n",
      "31:\tlearn: 0.8571429\ttotal: 1.04s\tremaining: 2.2s\n",
      "32:\tlearn: 0.8586297\ttotal: 1.06s\tremaining: 2.15s\n",
      "33:\tlearn: 0.8601216\ttotal: 1.08s\tremaining: 2.1s\n",
      "34:\tlearn: 0.8593750\ttotal: 1.1s\tremaining: 2.05s\n",
      "35:\tlearn: 0.8601216\ttotal: 1.13s\tremaining: 2.01s\n",
      "36:\tlearn: 0.8608696\ttotal: 1.15s\tremaining: 1.96s\n",
      "37:\tlearn: 0.8616188\ttotal: 1.18s\tremaining: 1.93s\n",
      "38:\tlearn: 0.8638743\ttotal: 1.21s\tremaining: 1.89s\n",
      "39:\tlearn: 0.8676599\ttotal: 1.23s\tremaining: 1.85s\n",
      "40:\tlearn: 0.8691835\ttotal: 1.26s\tremaining: 1.81s\n",
      "41:\tlearn: 0.8714789\ttotal: 1.28s\tremaining: 1.77s\n",
      "42:\tlearn: 0.8714789\ttotal: 1.31s\tremaining: 1.74s\n",
      "43:\tlearn: 0.8722467\ttotal: 1.34s\tremaining: 1.7s\n",
      "44:\tlearn: 0.8730159\ttotal: 1.36s\tremaining: 1.66s\n",
      "45:\tlearn: 0.8737864\ttotal: 1.38s\tremaining: 1.62s\n",
      "46:\tlearn: 0.8745583\ttotal: 1.41s\tremaining: 1.58s\n",
      "47:\tlearn: 0.8761062\ttotal: 1.43s\tremaining: 1.55s\n",
      "48:\tlearn: 0.8768822\ttotal: 1.45s\tremaining: 1.51s\n",
      "49:\tlearn: 0.8768822\ttotal: 1.48s\tremaining: 1.48s\n",
      "50:\tlearn: 0.8768822\ttotal: 1.5s\tremaining: 1.44s\n",
      "51:\tlearn: 0.8807829\ttotal: 1.52s\tremaining: 1.41s\n",
      "52:\tlearn: 0.8807829\ttotal: 1.55s\tremaining: 1.37s\n",
      "53:\tlearn: 0.8815672\ttotal: 1.57s\tremaining: 1.34s\n",
      "54:\tlearn: 0.8839286\ttotal: 1.6s\tremaining: 1.31s\n",
      "55:\tlearn: 0.8847185\ttotal: 1.63s\tremaining: 1.28s\n",
      "56:\tlearn: 0.8870968\ttotal: 1.65s\tremaining: 1.25s\n",
      "57:\tlearn: 0.8870968\ttotal: 1.68s\tremaining: 1.21s\n",
      "58:\tlearn: 0.8878924\ttotal: 1.7s\tremaining: 1.18s\n",
      "59:\tlearn: 0.8878924\ttotal: 1.73s\tremaining: 1.15s\n",
      "60:\tlearn: 0.8894879\ttotal: 1.75s\tremaining: 1.12s\n",
      "61:\tlearn: 0.8902878\ttotal: 1.77s\tremaining: 1.09s\n",
      "62:\tlearn: 0.8902878\ttotal: 1.8s\tremaining: 1.05s\n",
      "63:\tlearn: 0.8910891\ttotal: 1.82s\tremaining: 1.02s\n",
      "64:\tlearn: 0.8918919\ttotal: 1.84s\tremaining: 992ms\n",
      "65:\tlearn: 0.8943089\ttotal: 1.87s\tremaining: 961ms\n",
      "66:\tlearn: 0.8951175\ttotal: 1.89s\tremaining: 932ms\n",
      "67:\tlearn: 0.8967391\ttotal: 1.92s\tremaining: 902ms\n",
      "68:\tlearn: 0.8967391\ttotal: 1.94s\tremaining: 873ms\n",
      "69:\tlearn: 0.8967391\ttotal: 1.97s\tremaining: 844ms\n",
      "70:\tlearn: 0.8967391\ttotal: 2s\tremaining: 815ms\n",
      "71:\tlearn: 0.8975521\ttotal: 2.02s\tremaining: 787ms\n",
      "72:\tlearn: 0.8975521\ttotal: 2.05s\tremaining: 758ms\n",
      "73:\tlearn: 0.8983666\ttotal: 2.07s\tremaining: 729ms\n",
      "74:\tlearn: 0.8991826\ttotal: 2.1s\tremaining: 701ms\n",
      "75:\tlearn: 0.8991826\ttotal: 2.13s\tremaining: 672ms\n",
      "76:\tlearn: 0.8983666\ttotal: 2.15s\tremaining: 643ms\n",
      "77:\tlearn: 0.9008189\ttotal: 2.17s\tremaining: 613ms\n",
      "78:\tlearn: 0.9016393\ttotal: 2.2s\tremaining: 584ms\n",
      "79:\tlearn: 0.9016393\ttotal: 2.22s\tremaining: 555ms\n",
      "80:\tlearn: 0.9016393\ttotal: 2.24s\tremaining: 526ms\n",
      "81:\tlearn: 0.9024613\ttotal: 2.27s\tremaining: 499ms\n",
      "82:\tlearn: 0.9016393\ttotal: 2.3s\tremaining: 471ms\n",
      "83:\tlearn: 0.9024613\ttotal: 2.33s\tremaining: 443ms\n",
      "84:\tlearn: 0.9032847\ttotal: 2.35s\tremaining: 415ms\n",
      "85:\tlearn: 0.9032847\ttotal: 2.38s\tremaining: 388ms\n",
      "86:\tlearn: 0.9032847\ttotal: 2.41s\tremaining: 360ms\n",
      "87:\tlearn: 0.9057640\ttotal: 2.43s\tremaining: 332ms\n",
      "88:\tlearn: 0.9082569\ttotal: 2.46s\tremaining: 304ms\n",
      "89:\tlearn: 0.9090909\ttotal: 2.48s\tremaining: 275ms\n",
      "90:\tlearn: 0.9090909\ttotal: 2.5s\tremaining: 247ms\n",
      "91:\tlearn: 0.9099265\ttotal: 2.54s\tremaining: 220ms\n",
      "92:\tlearn: 0.9124424\ttotal: 2.56s\tremaining: 193ms\n",
      "93:\tlearn: 0.9132841\ttotal: 2.59s\tremaining: 165ms\n",
      "94:\tlearn: 0.9158187\ttotal: 2.62s\tremaining: 138ms\n",
      "95:\tlearn: 0.9192201\ttotal: 2.64s\tremaining: 110ms\n",
      "96:\tlearn: 0.9209302\ttotal: 2.67s\tremaining: 82.4ms\n",
      "97:\tlearn: 0.9217877\ttotal: 2.69s\tremaining: 54.9ms\n",
      "98:\tlearn: 0.9235075\ttotal: 2.71s\tremaining: 27.4ms\n",
      "99:\tlearn: 0.9243697\ttotal: 2.74s\tremaining: 0us\n",
      "Learning rate set to 0.073079\n",
      "0:\tlearn: 0.8306383\ttotal: 24.4ms\tremaining: 2.41s\n",
      "1:\tlearn: 0.8372881\ttotal: 49.3ms\tremaining: 2.41s\n",
      "2:\tlearn: 0.8336134\ttotal: 74ms\tremaining: 2.39s\n",
      "3:\tlearn: 0.8315172\ttotal: 99.3ms\tremaining: 2.38s\n",
      "4:\tlearn: 0.8308208\ttotal: 126ms\tremaining: 2.39s\n",
      "5:\tlearn: 0.8315172\ttotal: 149ms\tremaining: 2.34s\n",
      "6:\tlearn: 0.8301255\ttotal: 177ms\tremaining: 2.35s\n",
      "7:\tlearn: 0.8301255\ttotal: 203ms\tremaining: 2.33s\n",
      "8:\tlearn: 0.8294314\ttotal: 228ms\tremaining: 2.31s\n",
      "9:\tlearn: 0.8308208\ttotal: 251ms\tremaining: 2.26s\n",
      "10:\tlearn: 0.8315172\ttotal: 280ms\tremaining: 2.27s\n",
      "11:\tlearn: 0.8329135\ttotal: 309ms\tremaining: 2.27s\n",
      "12:\tlearn: 0.8371308\ttotal: 338ms\tremaining: 2.26s\n",
      "13:\tlearn: 0.8357203\ttotal: 367ms\tremaining: 2.25s\n",
      "14:\tlearn: 0.8357203\ttotal: 394ms\tremaining: 2.23s\n",
      "15:\tlearn: 0.8371308\ttotal: 421ms\tremaining: 2.21s\n",
      "16:\tlearn: 0.8371308\ttotal: 446ms\tremaining: 2.18s\n",
      "17:\tlearn: 0.8392555\ttotal: 471ms\tremaining: 2.14s\n",
      "18:\tlearn: 0.8399661\ttotal: 496ms\tremaining: 2.11s\n",
      "19:\tlearn: 0.8413910\ttotal: 521ms\tremaining: 2.08s\n",
      "20:\tlearn: 0.8421053\ttotal: 545ms\tremaining: 2.05s\n",
      "21:\tlearn: 0.8428207\ttotal: 572ms\tremaining: 2.03s\n",
      "22:\tlearn: 0.8428207\ttotal: 599ms\tremaining: 2s\n",
      "23:\tlearn: 0.8464164\ttotal: 621ms\tremaining: 1.97s\n",
      "24:\tlearn: 0.8478632\ttotal: 643ms\tremaining: 1.93s\n",
      "25:\tlearn: 0.8522337\ttotal: 665ms\tremaining: 1.89s\n",
      "26:\tlearn: 0.8529665\ttotal: 689ms\tremaining: 1.86s\n",
      "27:\tlearn: 0.8559103\ttotal: 714ms\tremaining: 1.83s\n",
      "28:\tlearn: 0.8596187\ttotal: 742ms\tremaining: 1.82s\n",
      "29:\tlearn: 0.8573898\ttotal: 768ms\tremaining: 1.79s\n",
      "30:\tlearn: 0.8581315\ttotal: 792ms\tremaining: 1.76s\n",
      "31:\tlearn: 0.8611111\ttotal: 822ms\tremaining: 1.75s\n",
      "32:\tlearn: 0.8596187\ttotal: 846ms\tremaining: 1.72s\n",
      "33:\tlearn: 0.8626087\ttotal: 872ms\tremaining: 1.69s\n",
      "34:\tlearn: 0.8618593\ttotal: 898ms\tremaining: 1.67s\n",
      "35:\tlearn: 0.8633594\ttotal: 921ms\tremaining: 1.64s\n",
      "36:\tlearn: 0.8656195\ttotal: 943ms\tremaining: 1.6s\n",
      "37:\tlearn: 0.8678915\ttotal: 965ms\tremaining: 1.57s\n",
      "38:\tlearn: 0.8686515\ttotal: 988ms\tremaining: 1.54s\n",
      "39:\tlearn: 0.8709394\ttotal: 1.01s\tremaining: 1.51s\n",
      "40:\tlearn: 0.8724714\ttotal: 1.04s\tremaining: 1.49s\n",
      "41:\tlearn: 0.8724714\ttotal: 1.06s\tremaining: 1.46s\n",
      "42:\tlearn: 0.8740088\ttotal: 1.08s\tremaining: 1.43s\n",
      "43:\tlearn: 0.8747795\ttotal: 1.1s\tremaining: 1.41s\n",
      "44:\tlearn: 0.8747795\ttotal: 1.13s\tremaining: 1.38s\n",
      "45:\tlearn: 0.8740088\ttotal: 1.16s\tremaining: 1.35s\n",
      "46:\tlearn: 0.8755516\ttotal: 1.18s\tremaining: 1.33s\n",
      "47:\tlearn: 0.8755516\ttotal: 1.2s\tremaining: 1.3s\n",
      "48:\tlearn: 0.8770999\ttotal: 1.23s\tremaining: 1.28s\n",
      "49:\tlearn: 0.8794326\ttotal: 1.26s\tremaining: 1.26s\n",
      "50:\tlearn: 0.8809947\ttotal: 1.28s\tremaining: 1.24s\n",
      "51:\tlearn: 0.8833482\ttotal: 1.31s\tremaining: 1.21s\n",
      "52:\tlearn: 0.8833482\ttotal: 1.33s\tremaining: 1.18s\n",
      "53:\tlearn: 0.8849242\ttotal: 1.36s\tremaining: 1.16s\n",
      "54:\tlearn: 0.8888889\ttotal: 1.39s\tremaining: 1.13s\n",
      "55:\tlearn: 0.8920863\ttotal: 1.41s\tremaining: 1.11s\n",
      "56:\tlearn: 0.8912848\ttotal: 1.43s\tremaining: 1.08s\n"
     ]
    },
    {
     "name": "stdout",
     "output_type": "stream",
     "text": [
      "57:\tlearn: 0.8904847\ttotal: 1.46s\tremaining: 1.05s\n",
      "58:\tlearn: 0.8880931\ttotal: 1.48s\tremaining: 1.03s\n",
      "59:\tlearn: 0.8880931\ttotal: 1.5s\tremaining: 1s\n",
      "60:\tlearn: 0.8880931\ttotal: 1.52s\tremaining: 975ms\n",
      "61:\tlearn: 0.8928893\ttotal: 1.55s\tremaining: 948ms\n",
      "62:\tlearn: 0.8920863\ttotal: 1.57s\tremaining: 921ms\n",
      "63:\tlearn: 0.8928893\ttotal: 1.59s\tremaining: 894ms\n",
      "64:\tlearn: 0.8961156\ttotal: 1.61s\tremaining: 868ms\n",
      "65:\tlearn: 0.8969259\ttotal: 1.63s\tremaining: 842ms\n",
      "66:\tlearn: 0.8977376\ttotal: 1.66s\tremaining: 817ms\n",
      "67:\tlearn: 0.8985507\ttotal: 1.68s\tremaining: 792ms\n",
      "68:\tlearn: 0.8985507\ttotal: 1.7s\tremaining: 766ms\n",
      "69:\tlearn: 0.8993654\ttotal: 1.73s\tremaining: 740ms\n",
      "70:\tlearn: 0.9001815\ttotal: 1.75s\tremaining: 714ms\n",
      "71:\tlearn: 0.9001815\ttotal: 1.77s\tremaining: 690ms\n",
      "72:\tlearn: 0.9042844\ttotal: 1.8s\tremaining: 665ms\n",
      "73:\tlearn: 0.9034608\ttotal: 1.82s\tremaining: 640ms\n",
      "74:\tlearn: 0.9051095\ttotal: 1.85s\tremaining: 616ms\n",
      "75:\tlearn: 0.9051095\ttotal: 1.88s\tremaining: 593ms\n",
      "76:\tlearn: 0.9051095\ttotal: 1.91s\tremaining: 569ms\n",
      "77:\tlearn: 0.9051095\ttotal: 1.93s\tremaining: 545ms\n",
      "78:\tlearn: 0.9051095\ttotal: 1.96s\tremaining: 521ms\n",
      "79:\tlearn: 0.9051095\ttotal: 1.98s\tremaining: 496ms\n",
      "80:\tlearn: 0.9059361\ttotal: 2.01s\tremaining: 472ms\n",
      "81:\tlearn: 0.9067642\ttotal: 2.04s\tremaining: 447ms\n",
      "82:\tlearn: 0.9092576\ttotal: 2.06s\tremaining: 422ms\n",
      "83:\tlearn: 0.9117647\ttotal: 2.09s\tremaining: 398ms\n",
      "84:\tlearn: 0.9109275\ttotal: 2.11s\tremaining: 372ms\n",
      "85:\tlearn: 0.9109275\ttotal: 2.13s\tremaining: 347ms\n",
      "86:\tlearn: 0.9142857\ttotal: 2.15s\tremaining: 322ms\n",
      "87:\tlearn: 0.9151292\ttotal: 2.18s\tremaining: 297ms\n",
      "88:\tlearn: 0.9151292\ttotal: 2.2s\tremaining: 272ms\n",
      "89:\tlearn: 0.9168207\ttotal: 2.22s\tremaining: 247ms\n",
      "90:\tlearn: 0.9168207\ttotal: 2.24s\tremaining: 222ms\n",
      "91:\tlearn: 0.9168207\ttotal: 2.27s\tremaining: 197ms\n",
      "92:\tlearn: 0.9159741\ttotal: 2.29s\tremaining: 172ms\n",
      "93:\tlearn: 0.9176688\ttotal: 2.32s\tremaining: 148ms\n",
      "94:\tlearn: 0.9193698\ttotal: 2.34s\tremaining: 123ms\n",
      "95:\tlearn: 0.9193698\ttotal: 2.36s\tremaining: 98.4ms\n",
      "96:\tlearn: 0.9210771\ttotal: 2.38s\tremaining: 73.7ms\n",
      "97:\tlearn: 0.9210771\ttotal: 2.41s\tremaining: 49.1ms\n",
      "98:\tlearn: 0.9227907\ttotal: 2.43s\tremaining: 24.5ms\n",
      "99:\tlearn: 0.9236499\ttotal: 2.45s\tremaining: 0us\n",
      "Learning rate set to 0.073079\n",
      "0:\tlearn: 0.8295550\ttotal: 23.9ms\tremaining: 2.37s\n",
      "1:\tlearn: 0.8326325\ttotal: 46.4ms\tremaining: 2.27s\n",
      "2:\tlearn: 0.8368555\ttotal: 67.5ms\tremaining: 2.18s\n",
      "3:\tlearn: 0.8404075\ttotal: 89.5ms\tremaining: 2.15s\n",
      "4:\tlearn: 0.8371308\ttotal: 115ms\tremaining: 2.18s\n",
      "5:\tlearn: 0.8322148\ttotal: 138ms\tremaining: 2.15s\n",
      "6:\tlearn: 0.8322148\ttotal: 161ms\tremaining: 2.13s\n",
      "7:\tlearn: 0.8322148\ttotal: 186ms\tremaining: 2.14s\n",
      "8:\tlearn: 0.8308208\ttotal: 216ms\tremaining: 2.18s\n",
      "9:\tlearn: 0.8399661\ttotal: 240ms\tremaining: 2.16s\n",
      "10:\tlearn: 0.8399661\ttotal: 266ms\tremaining: 2.15s\n",
      "11:\tlearn: 0.8435374\ttotal: 290ms\tremaining: 2.13s\n",
      "12:\tlearn: 0.8428207\ttotal: 317ms\tremaining: 2.12s\n",
      "13:\tlearn: 0.8413910\ttotal: 341ms\tremaining: 2.09s\n",
      "14:\tlearn: 0.8406780\ttotal: 366ms\tremaining: 2.07s\n",
      "15:\tlearn: 0.8421053\ttotal: 388ms\tremaining: 2.04s\n",
      "16:\tlearn: 0.8435374\ttotal: 412ms\tremaining: 2.01s\n",
      "17:\tlearn: 0.8464164\ttotal: 435ms\tremaining: 1.98s\n",
      "18:\tlearn: 0.8471392\ttotal: 458ms\tremaining: 1.95s\n",
      "19:\tlearn: 0.8478632\ttotal: 480ms\tremaining: 1.92s\n",
      "20:\tlearn: 0.8471392\ttotal: 502ms\tremaining: 1.89s\n",
      "21:\tlearn: 0.8464164\ttotal: 524ms\tremaining: 1.86s\n",
      "22:\tlearn: 0.8507719\ttotal: 546ms\tremaining: 1.83s\n",
      "23:\tlearn: 0.8544358\ttotal: 567ms\tremaining: 1.8s\n",
      "24:\tlearn: 0.8573898\ttotal: 589ms\tremaining: 1.77s\n",
      "25:\tlearn: 0.8581315\ttotal: 613ms\tremaining: 1.74s\n",
      "26:\tlearn: 0.8573898\ttotal: 637ms\tremaining: 1.72s\n",
      "27:\tlearn: 0.8611111\ttotal: 660ms\tremaining: 1.7s\n",
      "28:\tlearn: 0.8618593\ttotal: 683ms\tremaining: 1.67s\n",
      "29:\tlearn: 0.8641115\ttotal: 707ms\tremaining: 1.65s\n",
      "30:\tlearn: 0.8633594\ttotal: 734ms\tremaining: 1.63s\n",
      "31:\tlearn: 0.8633594\ttotal: 765ms\tremaining: 1.63s\n",
      "32:\tlearn: 0.8678915\ttotal: 794ms\tremaining: 1.61s\n",
      "33:\tlearn: 0.8694128\ttotal: 819ms\tremaining: 1.59s\n",
      "34:\tlearn: 0.8717047\ttotal: 848ms\tremaining: 1.57s\n",
      "35:\tlearn: 0.8701754\ttotal: 873ms\tremaining: 1.55s\n",
      "36:\tlearn: 0.8694128\ttotal: 898ms\tremaining: 1.53s\n",
      "37:\tlearn: 0.8717047\ttotal: 924ms\tremaining: 1.51s\n",
      "38:\tlearn: 0.8732394\ttotal: 947ms\tremaining: 1.48s\n",
      "39:\tlearn: 0.8724714\ttotal: 973ms\tremaining: 1.46s\n",
      "40:\tlearn: 0.8740088\ttotal: 996ms\tremaining: 1.43s\n",
      "41:\tlearn: 0.8747795\ttotal: 1.02s\tremaining: 1.41s\n",
      "42:\tlearn: 0.8770999\ttotal: 1.04s\tremaining: 1.38s\n",
      "43:\tlearn: 0.8778761\ttotal: 1.06s\tremaining: 1.36s\n",
      "44:\tlearn: 0.8802130\ttotal: 1.09s\tremaining: 1.33s\n",
      "45:\tlearn: 0.8817778\ttotal: 1.11s\tremaining: 1.3s\n",
      "46:\tlearn: 0.8833482\ttotal: 1.14s\tremaining: 1.28s\n",
      "47:\tlearn: 0.8825623\ttotal: 1.16s\tremaining: 1.25s\n",
      "48:\tlearn: 0.8833482\ttotal: 1.19s\tremaining: 1.24s\n",
      "49:\tlearn: 0.8857143\ttotal: 1.21s\tremaining: 1.21s\n",
      "50:\tlearn: 0.8865058\ttotal: 1.24s\tremaining: 1.19s\n",
      "51:\tlearn: 0.8896861\ttotal: 1.27s\tremaining: 1.17s\n",
      "52:\tlearn: 0.8904847\ttotal: 1.29s\tremaining: 1.15s\n",
      "53:\tlearn: 0.8920863\ttotal: 1.32s\tremaining: 1.12s\n",
      "54:\tlearn: 0.8920863\ttotal: 1.34s\tremaining: 1.1s\n",
      "55:\tlearn: 0.8928893\ttotal: 1.37s\tremaining: 1.08s\n",
      "56:\tlearn: 0.8928893\ttotal: 1.39s\tremaining: 1.05s\n",
      "57:\tlearn: 0.8928893\ttotal: 1.42s\tremaining: 1.02s\n",
      "58:\tlearn: 0.8928893\ttotal: 1.44s\tremaining: 999ms\n",
      "59:\tlearn: 0.8936937\ttotal: 1.46s\tremaining: 973ms\n",
      "60:\tlearn: 0.8936937\ttotal: 1.48s\tremaining: 947ms\n",
      "61:\tlearn: 0.8953069\ttotal: 1.51s\tremaining: 925ms\n",
      "62:\tlearn: 0.8969259\ttotal: 1.53s\tremaining: 902ms\n",
      "63:\tlearn: 0.8969259\ttotal: 1.56s\tremaining: 877ms\n",
      "64:\tlearn: 0.8985507\ttotal: 1.58s\tremaining: 853ms\n",
      "65:\tlearn: 0.8985507\ttotal: 1.61s\tremaining: 830ms\n",
      "66:\tlearn: 0.9034608\ttotal: 1.64s\tremaining: 807ms\n",
      "67:\tlearn: 0.9026388\ttotal: 1.67s\tremaining: 784ms\n",
      "68:\tlearn: 0.9034608\ttotal: 1.69s\tremaining: 760ms\n",
      "69:\tlearn: 0.9034608\ttotal: 1.72s\tremaining: 735ms\n",
      "70:\tlearn: 0.9059361\ttotal: 1.74s\tremaining: 710ms\n",
      "71:\tlearn: 0.9075938\ttotal: 1.76s\tremaining: 684ms\n",
      "72:\tlearn: 0.9092576\ttotal: 1.78s\tremaining: 659ms\n",
      "73:\tlearn: 0.9092576\ttotal: 1.8s\tremaining: 634ms\n",
      "74:\tlearn: 0.9092576\ttotal: 1.83s\tremaining: 610ms\n",
      "75:\tlearn: 0.9100917\ttotal: 1.85s\tremaining: 586ms\n",
      "76:\tlearn: 0.9100917\ttotal: 1.88s\tremaining: 562ms\n",
      "77:\tlearn: 0.9100917\ttotal: 1.92s\tremaining: 541ms\n",
      "78:\tlearn: 0.9100917\ttotal: 1.97s\tremaining: 523ms\n",
      "79:\tlearn: 0.9100917\ttotal: 2s\tremaining: 499ms\n",
      "80:\tlearn: 0.9100917\ttotal: 2.02s\tremaining: 473ms\n",
      "81:\tlearn: 0.9109275\ttotal: 2.04s\tremaining: 448ms\n",
      "82:\tlearn: 0.9100917\ttotal: 2.06s\tremaining: 422ms\n",
      "83:\tlearn: 0.9109275\ttotal: 2.08s\tremaining: 397ms\n",
      "84:\tlearn: 0.9117647\ttotal: 2.11s\tremaining: 372ms\n",
      "85:\tlearn: 0.9134438\ttotal: 2.13s\tremaining: 348ms\n",
      "86:\tlearn: 0.9142857\ttotal: 2.16s\tremaining: 323ms\n",
      "87:\tlearn: 0.9134438\ttotal: 2.18s\tremaining: 298ms\n",
      "88:\tlearn: 0.9126035\ttotal: 2.21s\tremaining: 273ms\n",
      "89:\tlearn: 0.9134438\ttotal: 2.23s\tremaining: 248ms\n",
      "90:\tlearn: 0.9134438\ttotal: 2.26s\tremaining: 224ms\n",
      "91:\tlearn: 0.9134438\ttotal: 2.28s\tremaining: 199ms\n",
      "92:\tlearn: 0.9151292\ttotal: 2.31s\tremaining: 174ms\n",
      "93:\tlearn: 0.9151292\ttotal: 2.34s\tremaining: 149ms\n",
      "94:\tlearn: 0.9176688\ttotal: 2.36s\tremaining: 124ms\n",
      "95:\tlearn: 0.9193698\ttotal: 2.39s\tremaining: 99.4ms\n",
      "96:\tlearn: 0.9219331\ttotal: 2.41s\tremaining: 74.5ms\n",
      "97:\tlearn: 0.9227907\ttotal: 2.43s\tremaining: 49.6ms\n",
      "98:\tlearn: 0.9236499\ttotal: 2.45s\tremaining: 24.8ms\n",
      "99:\tlearn: 0.9245107\ttotal: 2.48s\tremaining: 0us\n"
     ]
    },
    {
     "data": {
      "text/plain": [
       "0.5953706708641955"
      ]
     },
     "execution_count": 135,
     "metadata": {},
     "output_type": "execute_result"
    }
   ],
   "source": [
    "scores_cb = cross_val_score(model_cb, features_train_log_val, target_tf_idf, cv=8, scoring='f1_macro')\n",
    "scores_cb.mean()"
   ]
  },
  {
   "cell_type": "markdown",
   "id": "73d6d47e",
   "metadata": {},
   "source": [
    "результат несильно лучше, чем у решающего дерева, эту разницу можно спихнуть на случайность и особенности выборки. ситуация, скорее всего, такая же как и с деревом"
   ]
  },
  {
   "cell_type": "markdown",
   "id": "60240357",
   "metadata": {},
   "source": [
    "## Вывод по моделям\n",
    "самой удачной оказалась самая простая модель, что неожиданно. хотя может быть обьяснено тем, что tf-idf дает слишком много мнформации и можели переобучаются. Логическая регрессия показала результат в 67%, что без подбора гиперпараметров достаточно неплхо. думаю можно сказать, что оценка и обзор взпимосвязанны."
   ]
  },
  {
   "cell_type": "code",
   "execution_count": 146,
   "id": "ca64c257",
   "metadata": {},
   "outputs": [],
   "source": [
    "cf_matrix_log = confusion_matrix(model_log.predict(features_valid), target_valid)"
   ]
  },
  {
   "cell_type": "code",
   "execution_count": 148,
   "id": "afdf9972",
   "metadata": {},
   "outputs": [
    {
     "data": {
      "image/png": "[encoded data removed]",
      "text/plain": [
       "<Figure size 1152x648 with 2 Axes>"
      ]
     },
     "metadata": {},
     "output_type": "display_data"
    }
   ],
   "source": [
    "group_names = ['True Neg','False Pos','False Neg','True Pos']\n",
    "group_counts = [\"{0:0.0f}\".format(value) for value in\n",
    "                cf_matrix_log.flatten()]\n",
    "group_percentages = [\"{0:.2%}\".format(value) for value in\n",
    "                     cf_matrix_log.flatten()/np.sum(cf_matrix_log)]\n",
    "labels = [f\"{v1}\\n{v2}\\n{v3}\" for v1, v2, v3 in\n",
    "          zip(group_names,group_counts,group_percentages)]\n",
    "labels = np.asarray(labels).reshape(2,2)\n",
    "sns.heatmap(cf_matrix_log, annot=labels, fmt='', cmap='flare');"
   ]
  },
  {
   "cell_type": "markdown",
   "id": "66cd556a",
   "metadata": {},
   "source": [
    "К сожалению, несмотря на наши старания, наша модель плохо предсказывает 0. зато прекрасно справляется с 1. давайте посмотрим на roc-кривую"
   ]
  },
  {
   "cell_type": "code",
   "execution_count": 162,
   "id": "326561db",
   "metadata": {},
   "outputs": [
    {
     "data": {
      "image/png": "[encoded data removed]",
      "text/plain": [
       "<Figure size 1152x648 with 1 Axes>"
      ]
     },
     "metadata": {},
     "output_type": "display_data"
    }
   ],
   "source": [
    "tpr, fpr = get_n_roc_coordinates(target_valid, model_log.predict_proba(features_valid))\n",
    "plot_roc_curve(tpr, fpr)"
   ]
  },
  {
   "cell_type": "markdown",
   "id": "3bcfd862",
   "metadata": {},
   "source": [
    "Да, как мы можем видеть, у нащей модели явные проблемы с предсказаниями отрицательных значений."
   ]
  },
  {
   "cell_type": "markdown",
   "id": "030c78fc",
   "metadata": {},
   "source": [
    "# Проверка гипотез"
   ]
  },
  {
   "cell_type": "markdown",
   "id": "928348d0",
   "metadata": {},
   "source": [
    "Давайте сформулируем гипотезу:\n",
    "\n",
    "Средняя оценка в штате Мэн<strong> не равна</strong> средней оценке в Калифорнии.\n",
    "\n",
    "Нужно выбрать уровень статистической значимости, при обьеме выборки в 440 оптимальным значением будет 0.01, потому-что при таком маленьком обьеме выборки случайные отклонения не компенсируют друг друга."
   ]
  },
  {
   "cell_type": "code",
   "execution_count": 238,
   "id": "07ebc8cb",
   "metadata": {
    "scrolled": true
   },
   "outputs": [
    {
     "name": "stdout",
     "output_type": "stream",
     "text": [
      "p-value = 0.006733958421703003\n"
     ]
    }
   ],
   "source": [
    "ME = data[data['province'] == 'ME']['rating']\n",
    "CA = data[data['province'] == 'CA']['rating']\n",
    "print(f'p-value = {ztest(ME, CA)[1]}')"
   ]
  },
  {
   "cell_type": "markdown",
   "id": "37c60165",
   "metadata": {},
   "source": [
    "У нас нет достаточного количества оснований, чтобы принять гипотезу, поэтому мы ее не <strong>отвергаем</strong>"
   ]
  },
  {
   "cell_type": "code",
   "execution_count": 254,
   "id": "8dacb43e",
   "metadata": {},
   "outputs": [
    {
     "data": {
      "image/png": "[encoded data removed]",
      "text/plain": [
       "<Figure size 1440x1152 with 1 Axes>"
      ]
     },
     "metadata": {},
     "output_type": "display_data"
    }
   ],
   "source": [
    "sns.histplot(data=ME,color=\"blue\",bins = 4, kde=True).set_title(\"rating distribution\");\n",
    "sns.histplot(data=CA,color=\"red\",bins = 5, kde=True).set_title(\"rating distribution\");"
   ]
  },
  {
   "cell_type": "code",
   "execution_count": 253,
   "id": "71e6fe2c",
   "metadata": {},
   "outputs": [
    {
     "name": "stdout",
     "output_type": "stream",
     "text": [
      "1.3088882721217197\n",
      "1.5369423382119554\n"
     ]
    }
   ],
   "source": [
    "print(ME.std()**2)\n",
    "print(CA.std()**2)"
   ]
  },
  {
   "cell_type": "markdown",
   "id": "ce6939c7",
   "metadata": {},
   "source": [
    "Вообще, хоть дисперсии и равны и выборки не зависят друг от друга, распределения не нормальные и нельзя пользоваться стандартными методами проверки гипотез. но имеем, что имеем."
   ]
  },
  {
   "cell_type": "markdown",
   "id": "89e7578f",
   "metadata": {},
   "source": [
    "# Вывод\n",
    "Мы столкнулись с большим количеством трудностей, вызванным тем, что у нас нет доступа к изначальному датасету, а только к части. но несмотря на это, мы справились со всеми заданиями, поставенными перед нами. проанализировали набор данных, построили модель машинного обучения, которая показала неплохой результат, попытались улучшить более посредственные модели подбирая гиперпараметры, сформулировали и протестировали гипотезу."
   ]
  }
 ],
 "metadata": {
  "kernelspec": {
   "display_name": "Python 3 (ipykernel)",
   "language": "python",
   "name": "python3"
  },
  "language_info": {
   "codemirror_mode": {
    "name": "ipython",
    "version": 3
   },
   "file_extension": ".py",
   "mimetype": "text/x-python",
   "name": "python",
   "nbconvert_exporter": "python",
   "pygments_lexer": "ipython3",
   "version": "3.10.1"
  }
 },
 "nbformat": 4,
 "nbformat_minor": 5
}
